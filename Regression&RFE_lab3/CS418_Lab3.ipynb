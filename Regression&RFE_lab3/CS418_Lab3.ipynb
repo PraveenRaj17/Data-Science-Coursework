{
 "cells": [
  {
   "cell_type": "markdown",
   "metadata": {
    "id": "XFV8OqC2BF7c"
   },
   "source": [
    "# Lab 3: Scikit Learn and Regression"
   ]
  },
  {
   "cell_type": "markdown",
   "metadata": {
    "id": "ZYCSkPWHBF8J"
   },
   "source": [
    "\n",
    "### [Read an follow the prelab before answering the questions here](https://drive.google.com/file/d/1RVGIYL9xloKfn9SPoJoxXSiKdRhuj9RD/view?usp=sharing)"
   ]
  },
  {
   "cell_type": "markdown",
   "metadata": {
    "id": "s0dqshH4BF8d"
   },
   "source": [
    "\n",
    "## Academic Integrity Guidelines \n",
    "This lab is an individual assignment (like all the other labs). You should NOT work with your project teammate nor any other classmate. If you have questions, please ask us on Piazza.\n",
    "You must reference (including URLs) of any resources other than those linked to in the assignment, or provided by the professor or TA. \n",
    "\n",
    "\n",
    "##To submit this assignment:\n",
    "1.\tPrint your Jupyter Notebook as a PDF and upload it to Gradescope. **Make sure that each line of code has 80 characters maximum and that all your plots and text are properly displayed in the pdf.**\n",
    "2.\tExport your Jupyter Notebook as a python file (.py) and upload it to Gradescope. **If your pdf does not show your text and plots properly, submit your jupyter notebook file also (.ipynb)**\n"
   ]
  },
  {
   "cell_type": "markdown",
   "metadata": {
    "id": "E4fjxQANBF8m"
   },
   "source": [
    "#### Exercise 3.1 ( 20 pts)\n",
    "\n",
    "Perform the following tasks (TODO):\n",
    "\n",
    "1. Load this Boston housing dataset: \n",
    " * [info](https://raw.githubusercontent.com/jbrownlee/Datasets/master/housing.names)\n",
    " * [housing.csv](https://raw.githubusercontent.com/jbrownlee/Datasets/master/housing.csv) \n",
    "\n",
    "2. Display the first 10 rows of the dataset with column names as headers as it is shown in the [info](https://raw.githubusercontent.com/jbrownlee/Datasets/master/housing.names) file\n",
    "\n",
    "3. Using your own judgment, select one of the 13 columns as a predictor for MEDV(Median value of owner-occupied homes in $1000's).\n",
    "\n"
   ]
  },
  {
   "cell_type": "code",
   "execution_count": 41,
   "metadata": {
    "colab": {
     "base_uri": "https://localhost:8080/",
     "height": 363
    },
    "id": "FVILd63qBF8n",
    "outputId": "3bea82c0-b53f-4395-a780-58061325f991"
   },
   "outputs": [
    {
     "data": {
      "text/html": [
       "\n",
       "  <div id=\"df-e7220aa4-3e31-49c3-8b3b-445a76e9fc0e\">\n",
       "    <div class=\"colab-df-container\">\n",
       "      <div>\n",
       "<style scoped>\n",
       "    .dataframe tbody tr th:only-of-type {\n",
       "        vertical-align: middle;\n",
       "    }\n",
       "\n",
       "    .dataframe tbody tr th {\n",
       "        vertical-align: top;\n",
       "    }\n",
       "\n",
       "    .dataframe thead th {\n",
       "        text-align: right;\n",
       "    }\n",
       "</style>\n",
       "<table border=\"1\" class=\"dataframe\">\n",
       "  <thead>\n",
       "    <tr style=\"text-align: right;\">\n",
       "      <th></th>\n",
       "      <th>CRIM</th>\n",
       "      <th>ZN</th>\n",
       "      <th>INDUS</th>\n",
       "      <th>CHAS</th>\n",
       "      <th>NOX</th>\n",
       "      <th>RM</th>\n",
       "      <th>AGE</th>\n",
       "      <th>DIS</th>\n",
       "      <th>RAD</th>\n",
       "      <th>TAX</th>\n",
       "      <th>PTRATIO</th>\n",
       "      <th>B</th>\n",
       "      <th>LSTAT</th>\n",
       "      <th>MEDV</th>\n",
       "    </tr>\n",
       "  </thead>\n",
       "  <tbody>\n",
       "    <tr>\n",
       "      <th>0</th>\n",
       "      <td>0.02731</td>\n",
       "      <td>0.0</td>\n",
       "      <td>7.07</td>\n",
       "      <td>0</td>\n",
       "      <td>0.469</td>\n",
       "      <td>6.421</td>\n",
       "      <td>78.9</td>\n",
       "      <td>4.9671</td>\n",
       "      <td>2</td>\n",
       "      <td>242.0</td>\n",
       "      <td>17.8</td>\n",
       "      <td>396.90</td>\n",
       "      <td>9.14</td>\n",
       "      <td>21.6</td>\n",
       "    </tr>\n",
       "    <tr>\n",
       "      <th>1</th>\n",
       "      <td>0.02729</td>\n",
       "      <td>0.0</td>\n",
       "      <td>7.07</td>\n",
       "      <td>0</td>\n",
       "      <td>0.469</td>\n",
       "      <td>7.185</td>\n",
       "      <td>61.1</td>\n",
       "      <td>4.9671</td>\n",
       "      <td>2</td>\n",
       "      <td>242.0</td>\n",
       "      <td>17.8</td>\n",
       "      <td>392.83</td>\n",
       "      <td>4.03</td>\n",
       "      <td>34.7</td>\n",
       "    </tr>\n",
       "    <tr>\n",
       "      <th>2</th>\n",
       "      <td>0.03237</td>\n",
       "      <td>0.0</td>\n",
       "      <td>2.18</td>\n",
       "      <td>0</td>\n",
       "      <td>0.458</td>\n",
       "      <td>6.998</td>\n",
       "      <td>45.8</td>\n",
       "      <td>6.0622</td>\n",
       "      <td>3</td>\n",
       "      <td>222.0</td>\n",
       "      <td>18.7</td>\n",
       "      <td>394.63</td>\n",
       "      <td>2.94</td>\n",
       "      <td>33.4</td>\n",
       "    </tr>\n",
       "    <tr>\n",
       "      <th>3</th>\n",
       "      <td>0.06905</td>\n",
       "      <td>0.0</td>\n",
       "      <td>2.18</td>\n",
       "      <td>0</td>\n",
       "      <td>0.458</td>\n",
       "      <td>7.147</td>\n",
       "      <td>54.2</td>\n",
       "      <td>6.0622</td>\n",
       "      <td>3</td>\n",
       "      <td>222.0</td>\n",
       "      <td>18.7</td>\n",
       "      <td>396.90</td>\n",
       "      <td>5.33</td>\n",
       "      <td>36.2</td>\n",
       "    </tr>\n",
       "    <tr>\n",
       "      <th>4</th>\n",
       "      <td>0.02985</td>\n",
       "      <td>0.0</td>\n",
       "      <td>2.18</td>\n",
       "      <td>0</td>\n",
       "      <td>0.458</td>\n",
       "      <td>6.430</td>\n",
       "      <td>58.7</td>\n",
       "      <td>6.0622</td>\n",
       "      <td>3</td>\n",
       "      <td>222.0</td>\n",
       "      <td>18.7</td>\n",
       "      <td>394.12</td>\n",
       "      <td>5.21</td>\n",
       "      <td>28.7</td>\n",
       "    </tr>\n",
       "    <tr>\n",
       "      <th>5</th>\n",
       "      <td>0.08829</td>\n",
       "      <td>12.5</td>\n",
       "      <td>7.87</td>\n",
       "      <td>0</td>\n",
       "      <td>0.524</td>\n",
       "      <td>6.012</td>\n",
       "      <td>66.6</td>\n",
       "      <td>5.5605</td>\n",
       "      <td>5</td>\n",
       "      <td>311.0</td>\n",
       "      <td>15.2</td>\n",
       "      <td>395.60</td>\n",
       "      <td>12.43</td>\n",
       "      <td>22.9</td>\n",
       "    </tr>\n",
       "    <tr>\n",
       "      <th>6</th>\n",
       "      <td>0.14455</td>\n",
       "      <td>12.5</td>\n",
       "      <td>7.87</td>\n",
       "      <td>0</td>\n",
       "      <td>0.524</td>\n",
       "      <td>6.172</td>\n",
       "      <td>96.1</td>\n",
       "      <td>5.9505</td>\n",
       "      <td>5</td>\n",
       "      <td>311.0</td>\n",
       "      <td>15.2</td>\n",
       "      <td>396.90</td>\n",
       "      <td>19.15</td>\n",
       "      <td>27.1</td>\n",
       "    </tr>\n",
       "    <tr>\n",
       "      <th>7</th>\n",
       "      <td>0.21124</td>\n",
       "      <td>12.5</td>\n",
       "      <td>7.87</td>\n",
       "      <td>0</td>\n",
       "      <td>0.524</td>\n",
       "      <td>5.631</td>\n",
       "      <td>100.0</td>\n",
       "      <td>6.0821</td>\n",
       "      <td>5</td>\n",
       "      <td>311.0</td>\n",
       "      <td>15.2</td>\n",
       "      <td>386.63</td>\n",
       "      <td>29.93</td>\n",
       "      <td>16.5</td>\n",
       "    </tr>\n",
       "    <tr>\n",
       "      <th>8</th>\n",
       "      <td>0.17004</td>\n",
       "      <td>12.5</td>\n",
       "      <td>7.87</td>\n",
       "      <td>0</td>\n",
       "      <td>0.524</td>\n",
       "      <td>6.004</td>\n",
       "      <td>85.9</td>\n",
       "      <td>6.5921</td>\n",
       "      <td>5</td>\n",
       "      <td>311.0</td>\n",
       "      <td>15.2</td>\n",
       "      <td>386.71</td>\n",
       "      <td>17.10</td>\n",
       "      <td>18.9</td>\n",
       "    </tr>\n",
       "    <tr>\n",
       "      <th>9</th>\n",
       "      <td>0.22489</td>\n",
       "      <td>12.5</td>\n",
       "      <td>7.87</td>\n",
       "      <td>0</td>\n",
       "      <td>0.524</td>\n",
       "      <td>6.377</td>\n",
       "      <td>94.3</td>\n",
       "      <td>6.3467</td>\n",
       "      <td>5</td>\n",
       "      <td>311.0</td>\n",
       "      <td>15.2</td>\n",
       "      <td>392.52</td>\n",
       "      <td>20.45</td>\n",
       "      <td>15.0</td>\n",
       "    </tr>\n",
       "  </tbody>\n",
       "</table>\n",
       "</div>\n",
       "      <button class=\"colab-df-convert\" onclick=\"convertToInteractive('df-e7220aa4-3e31-49c3-8b3b-445a76e9fc0e')\"\n",
       "              title=\"Convert this dataframe to an interactive table.\"\n",
       "              style=\"display:none;\">\n",
       "        \n",
       "  <svg xmlns=\"http://www.w3.org/2000/svg\" height=\"24px\"viewBox=\"0 0 24 24\"\n",
       "       width=\"24px\">\n",
       "    <path d=\"M0 0h24v24H0V0z\" fill=\"none\"/>\n",
       "    <path d=\"M18.56 5.44l.94 2.06.94-2.06 2.06-.94-2.06-.94-.94-2.06-.94 2.06-2.06.94zm-11 1L8.5 8.5l.94-2.06 2.06-.94-2.06-.94L8.5 2.5l-.94 2.06-2.06.94zm10 10l.94 2.06.94-2.06 2.06-.94-2.06-.94-.94-2.06-.94 2.06-2.06.94z\"/><path d=\"M17.41 7.96l-1.37-1.37c-.4-.4-.92-.59-1.43-.59-.52 0-1.04.2-1.43.59L10.3 9.45l-7.72 7.72c-.78.78-.78 2.05 0 2.83L4 21.41c.39.39.9.59 1.41.59.51 0 1.02-.2 1.41-.59l7.78-7.78 2.81-2.81c.8-.78.8-2.07 0-2.86zM5.41 20L4 18.59l7.72-7.72 1.47 1.35L5.41 20z\"/>\n",
       "  </svg>\n",
       "      </button>\n",
       "      \n",
       "  <style>\n",
       "    .colab-df-container {\n",
       "      display:flex;\n",
       "      flex-wrap:wrap;\n",
       "      gap: 12px;\n",
       "    }\n",
       "\n",
       "    .colab-df-convert {\n",
       "      background-color: #E8F0FE;\n",
       "      border: none;\n",
       "      border-radius: 50%;\n",
       "      cursor: pointer;\n",
       "      display: none;\n",
       "      fill: #1967D2;\n",
       "      height: 32px;\n",
       "      padding: 0 0 0 0;\n",
       "      width: 32px;\n",
       "    }\n",
       "\n",
       "    .colab-df-convert:hover {\n",
       "      background-color: #E2EBFA;\n",
       "      box-shadow: 0px 1px 2px rgba(60, 64, 67, 0.3), 0px 1px 3px 1px rgba(60, 64, 67, 0.15);\n",
       "      fill: #174EA6;\n",
       "    }\n",
       "\n",
       "    [theme=dark] .colab-df-convert {\n",
       "      background-color: #3B4455;\n",
       "      fill: #D2E3FC;\n",
       "    }\n",
       "\n",
       "    [theme=dark] .colab-df-convert:hover {\n",
       "      background-color: #434B5C;\n",
       "      box-shadow: 0px 1px 3px 1px rgba(0, 0, 0, 0.15);\n",
       "      filter: drop-shadow(0px 1px 2px rgba(0, 0, 0, 0.3));\n",
       "      fill: #FFFFFF;\n",
       "    }\n",
       "  </style>\n",
       "\n",
       "      <script>\n",
       "        const buttonEl =\n",
       "          document.querySelector('#df-e7220aa4-3e31-49c3-8b3b-445a76e9fc0e button.colab-df-convert');\n",
       "        buttonEl.style.display =\n",
       "          google.colab.kernel.accessAllowed ? 'block' : 'none';\n",
       "\n",
       "        async function convertToInteractive(key) {\n",
       "          const element = document.querySelector('#df-e7220aa4-3e31-49c3-8b3b-445a76e9fc0e');\n",
       "          const dataTable =\n",
       "            await google.colab.kernel.invokeFunction('convertToInteractive',\n",
       "                                                     [key], {});\n",
       "          if (!dataTable) return;\n",
       "\n",
       "          const docLinkHtml = 'Like what you see? Visit the ' +\n",
       "            '<a target=\"_blank\" href=https://colab.research.google.com/notebooks/data_table.ipynb>data table notebook</a>'\n",
       "            + ' to learn more about interactive tables.';\n",
       "          element.innerHTML = '';\n",
       "          dataTable['output_type'] = 'display_data';\n",
       "          await google.colab.output.renderOutput(dataTable, element);\n",
       "          const docLink = document.createElement('div');\n",
       "          docLink.innerHTML = docLinkHtml;\n",
       "          element.appendChild(docLink);\n",
       "        }\n",
       "      </script>\n",
       "    </div>\n",
       "  </div>\n",
       "  "
      ],
      "text/plain": [
       "      CRIM    ZN  INDUS  CHAS    NOX     RM    AGE     DIS  RAD    TAX  \\\n",
       "0  0.02731   0.0   7.07     0  0.469  6.421   78.9  4.9671    2  242.0   \n",
       "1  0.02729   0.0   7.07     0  0.469  7.185   61.1  4.9671    2  242.0   \n",
       "2  0.03237   0.0   2.18     0  0.458  6.998   45.8  6.0622    3  222.0   \n",
       "3  0.06905   0.0   2.18     0  0.458  7.147   54.2  6.0622    3  222.0   \n",
       "4  0.02985   0.0   2.18     0  0.458  6.430   58.7  6.0622    3  222.0   \n",
       "5  0.08829  12.5   7.87     0  0.524  6.012   66.6  5.5605    5  311.0   \n",
       "6  0.14455  12.5   7.87     0  0.524  6.172   96.1  5.9505    5  311.0   \n",
       "7  0.21124  12.5   7.87     0  0.524  5.631  100.0  6.0821    5  311.0   \n",
       "8  0.17004  12.5   7.87     0  0.524  6.004   85.9  6.5921    5  311.0   \n",
       "9  0.22489  12.5   7.87     0  0.524  6.377   94.3  6.3467    5  311.0   \n",
       "\n",
       "   PTRATIO       B  LSTAT  MEDV  \n",
       "0     17.8  396.90   9.14  21.6  \n",
       "1     17.8  392.83   4.03  34.7  \n",
       "2     18.7  394.63   2.94  33.4  \n",
       "3     18.7  396.90   5.33  36.2  \n",
       "4     18.7  394.12   5.21  28.7  \n",
       "5     15.2  395.60  12.43  22.9  \n",
       "6     15.2  396.90  19.15  27.1  \n",
       "7     15.2  386.63  29.93  16.5  \n",
       "8     15.2  386.71  17.10  18.9  \n",
       "9     15.2  392.52  20.45  15.0  "
      ]
     },
     "execution_count": 41,
     "metadata": {},
     "output_type": "execute_result"
    }
   ],
   "source": [
    "# Your code goes here\n",
    "# TODO: Load the dataset\n",
    "import pandas as pd\n",
    "df = pd.read_csv('housing.csv')\n",
    "# import pandas as pd\n",
    "# df = pd.read_html('https://raw.githubusercontent.com/jbrownlee/Datasets/master/housing.csv')\n",
    "df.columns =['CRIM', 'ZN', 'INDUS', 'CHAS', 'NOX', 'RM', 'AGE', 'DIS', 'RAD', 'TAX', 'PTRATIO', 'B', 'LSTAT', 'MEDV']\n",
    "# TODO: Display first 10 rows \n",
    "df.head(10)"
   ]
  },
  {
   "cell_type": "markdown",
   "metadata": {
    "id": "SEhuPNknS-iR"
   },
   "source": [
    "####Which column did you choose and why?\n",
    "\n",
    "**I have chosen the column - RM. Because number of rooms is usually directly proportional to a home's value.**"
   ]
  },
  {
   "cell_type": "markdown",
   "metadata": {
    "id": "q_zC8wRPS8jz"
   },
   "source": [
    "\n",
    "4. Make a linear regression model with the feature you chose. Use `train_test_split` to keep 20% of the data for testing.\n",
    "5. Use your model to predict values for test set and print the predictions for the first 10 instances of the test data and compare them with actual values. (e.g. a table with columns predicted value and actual value).\n",
    "6. Print the coefficient value and its corresponding feature name (e.g.  CRIM  0.00632)  \n",
    "7. Calculate training-MSE, testing-MSE, and R-squared value."
   ]
  },
  {
   "cell_type": "code",
   "execution_count": 71,
   "metadata": {
    "colab": {
     "base_uri": "https://localhost:8080/"
    },
    "id": "JAMQUXnNTZGe",
    "outputId": "03c6f444-a6a1-4cf9-b97a-ca1413b881cc"
   },
   "outputs": [
    {
     "name": "stdout",
     "output_type": "stream",
     "text": [
      "Predicted values vs Actual values\n",
      "{'Predicted Values': array([[34.54026669],\n",
      "       [24.51628901],\n",
      "       [31.7317866 ],\n",
      "       [20.09160811],\n",
      "       [19.43806243],\n",
      "       [17.21247444],\n",
      "       [14.83674757],\n",
      "       [32.99471947],\n",
      "       [24.05704069],\n",
      "       [23.58896068]]), 'Actual Values':      MEDV\n",
      "281  46.0\n",
      "158  23.3\n",
      "262  31.0\n",
      "293  21.7\n",
      "15   23.1\n",
      "404   5.0\n",
      "488   7.0\n",
      "267  43.5\n",
      "129  19.2\n",
      "90   22.0}\n",
      "----------------------------------------------------------------\n",
      "Model coefficient with feature names\n",
      "RM\n",
      "[[8.83169839]]\n",
      "----------------------------------------------------------------\n",
      "Model intercept\n",
      "[-32.97806754]\n",
      "----------------------------------------------------------------\n",
      "r-squared\n",
      "0.5634007372139881\n",
      "----------------------------------------------------------------\n",
      "MSE for training : 45.97878512680088\n",
      "MSE for testing : 34.68826382068348\n",
      "----------------------------------------------------------------\n"
     ]
    }
   ],
   "source": [
    "# Your code goes here\n",
    "import numpy as np\n",
    "from sklearn.model_selection import train_test_split\n",
    "from sklearn.metrics import mean_squared_error, r2_score\n",
    "from sklearn.linear_model import LinearRegression\n",
    "# TODO: Select ONE FEATURE for linear regression\n",
    "X = df[['RM']]\n",
    "y = df[['MEDV']]\n",
    "# TODO: Split the data into training/testing sets\n",
    "X_train,X_test , y_train, y_test = train_test_split(\n",
    "                                     X, y, test_size = 0.20)\n",
    "lr = LinearRegression()\n",
    "# df_X_train.shape\n",
    "# df_y_train.shape\n",
    "# TODO: Train the model \n",
    "lr.fit(X_train, y_train)\n",
    "\n",
    "# TODO: Make predictions on test data \n",
    "pred = lr.predict(X_test)\n",
    "# print(tabulate(data, headers=[\"Pos\", \"Predicted Values\", \"Actual Values\"]))\n",
    "print('Predicted values vs Actual values')\n",
    "d = {'Predicted Values': pred[:10], 'Actual Values': y_test[:10]}\n",
    "print(d)\n",
    "print('----------------------------------------------------------------')\n",
    "# TODO: print the model coefficient with feature names\n",
    "print('Model coefficient with feature names')\n",
    "# print(X_train.columns)\n",
    "for col in X_train.columns:\n",
    "    print(col)\n",
    "print(lr.coef_)\n",
    "print('----------------------------------------------------------------')\n",
    "# TODO: print the model intercept\n",
    "print('Model intercept')\n",
    "print(lr.intercept_)\n",
    "print('----------------------------------------------------------------')\n",
    "# TODO: print the r-squared\n",
    "from sklearn.metrics import r2_score\n",
    "r2 = r2_score(y_test, pred)\n",
    "print('r-squared')\n",
    "print(r2)\n",
    "print('----------------------------------------------------------------')\n",
    "# TODO: print the mean squared error for training\n",
    "from sklearn.metrics import mean_squared_error\n",
    "pred_train = lr.predict(X_train)\n",
    "print('MSE for training : ' + str(mean_squared_error(y_train, pred_train)))\n",
    "# TODO: print the mean squared error for testing\n",
    "print('MSE for testing : ' + str(mean_squared_error(y_test, pred)))\n",
    "print('----------------------------------------------------------------')\n",
    "\n"
   ]
  },
  {
   "cell_type": "markdown",
   "metadata": {
    "id": "e489iZCWTZVj"
   },
   "source": [
    "8. Make a linear regression model with **all the features** in the dataset (MEDV is not a feature, it is the value to predict). Use `train_test_split` to keep 20% of the data for testing.\n",
    "9. Use your model to predict values for test set and print the predictions for the first 10 instances of the test data and compare them with actual values.\n",
    "10. Print the coefficient values and their corresponding feature name \n",
    "11. Calculate training-MSE, testing-MSE, and R-squared value."
   ]
  },
  {
   "cell_type": "code",
   "execution_count": 61,
   "metadata": {
    "colab": {
     "base_uri": "https://localhost:8080/"
    },
    "id": "L3DxKFSrUbhz",
    "outputId": "f5cb88fd-624c-4189-8a57-58ffc485cc3a"
   },
   "outputs": [
    {
     "name": "stdout",
     "output_type": "stream",
     "text": [
      "Model coefficient with feature names\n",
      "Index(['CRIM', 'ZN', 'INDUS', 'CHAS', 'NOX', 'RM', 'AGE', 'DIS', 'RAD', 'TAX',\n",
      "       'PTRATIO', 'B', 'LSTAT'],\n",
      "      dtype='object')  [-1.10395242e-01  3.29866184e-02  1.87221062e-02  3.17535918e+00\n",
      " -2.01023731e+01  3.18090448e+00  2.25493116e-02 -1.36785138e+00\n",
      "  3.16303679e-01 -9.95787688e-03 -1.10042829e+00  7.90313769e-03\n",
      " -6.40724075e-01]\n",
      "----------------------------------------------------------------\n",
      "Model intercept\n",
      "43.55405096702418\n",
      "----------------------------------------------------------------\n",
      "r-squared\n",
      "0.7545604410992675\n",
      "----------------------------------------------------------------\n",
      "MSE for training : 22.753865549060905\n",
      "MSE for testing : 20.414164512408018\n",
      "----------------------------------------------------------------\n"
     ]
    }
   ],
   "source": [
    "# Your code goes here\n",
    "\n",
    "# TODO: Select ALL THE FEATURES for linear regression\n",
    "X1 = df[['CRIM', 'ZN', 'INDUS', 'CHAS', 'NOX', 'RM', 'AGE', 'DIS', 'RAD', 'TAX',\n",
    "       'PTRATIO', 'B', 'LSTAT']]\n",
    "y1 = df['MEDV']\n",
    "# TODO: Split the data into training/testing sets\n",
    "X1_train, X1_test, y1_train, y1_test = train_test_split(X1, y1, test_size=0.2)\n",
    "# TODO: Train the model \n",
    "lm = LinearRegression()\n",
    "lm.fit(X1_train,y1_train)\n",
    "# TODO: Make predictions on test data \n",
    "pred1 = lm.predict(X1_test)\n",
    "# TODO: print the model coefficient with feature names\n",
    "print('Model coefficient with feature names')\n",
    "print(str(X1_train.columns) + '  ' + str(lm.coef_))\n",
    "print('----------------------------------------------------------------')\n",
    "# TODO: print the model intercept\n",
    "print('Model intercept')\n",
    "print(lm.intercept_)\n",
    "print('----------------------------------------------------------------')\n",
    "# TODO: print the r-squared\n",
    "# from sklearn.metrics import r2_score\n",
    "r2_1 = r2_score(y1_test, pred1)\n",
    "print('r-squared')\n",
    "print(r2_1)\n",
    "print('----------------------------------------------------------------')\n",
    "# TODO: print the mean squared error for training\n",
    "# from sklearn.metrics import mean_squared_error\n",
    "pred1_train = lm.predict(X1_train)\n",
    "print('MSE for training : ' + str(mean_squared_error(y1_train, pred1_train)))\n",
    "# TODO: print the mean squared error for testing\n",
    "print('MSE for testing : ' + str(mean_squared_error(y1_test, pred1)))\n",
    "print('----------------------------------------------------------------')\n",
    "\n"
   ]
  },
  {
   "cell_type": "markdown",
   "metadata": {
    "id": "5FlcXyWoVRb-"
   },
   "source": [
    "#### Compare the two models (with all the features versus one feature). Which model has a better performance? Why?\n",
    "\n",
    "\n",
    "**The model with all the features is the better performing one. It's mean squared error is lesser than the one with a single feature**"
   ]
  },
  {
   "cell_type": "markdown",
   "metadata": {
    "id": "yGV5xFIVBF8r"
   },
   "source": [
    "#### Exercise 3.2 (15 pts)\n",
    "\n",
    "1.   Use `RFE` to select the two most important features.\n",
    "2.   Make a Linear regression model using the features that `RFE` selected. \n",
    "3.   Calculate and print both train and test MSE and R-squared values, and compare this model with the models from 3.1.  "
   ]
  },
  {
   "cell_type": "code",
   "execution_count": 62,
   "metadata": {
    "colab": {
     "base_uri": "https://localhost:8080/"
    },
    "id": "c2u_EeQTK5Iv",
    "outputId": "09aef2c1-cee9-40c5-b90b-ae05f131b258"
   },
   "outputs": [
    {
     "name": "stdout",
     "output_type": "stream",
     "text": [
      "r2 Score : 0.5556249881405007\n",
      "----------------------------------------------------------------\n",
      "MSE for training : 39.660419359513234\n",
      "MSE for testing : 37.90592035165051\n",
      "----------------------------------------------------------------\n",
      "columns selected by rfe\n",
      "Column: 4\n",
      "Column: 5\n",
      "----------------------------------------------------------------\n"
     ]
    }
   ],
   "source": [
    "# Your code goes here \n",
    "from sklearn.feature_selection import RFE\n",
    "\n",
    "model = LinearRegression()\n",
    "rfe = RFE(model, n_features_to_select=2)\n",
    "rfe.fit(X1,y1)\n",
    "Xrfe = rfe.transform(X1)\n",
    "# Split the data into training/testing sets\n",
    "Xrfe_train, Xrfe_test, yrfe_train, yrfe_test = train_test_split(Xrfe, y1, test_size=0.2)\n",
    "# Train the model \n",
    "lrrfe = LinearRegression()\n",
    "lrrfe.fit(Xrfe_train,yrfe_train)\n",
    "# Make predictions on test data \n",
    "predrfe = lrrfe.predict(Xrfe_test)\n",
    "# print the r-squared\n",
    "r2_rfe = r2_score(yrfe_test, predrfe)\n",
    "print('r2 Score : ' + str(r2_rfe))\n",
    "print('----------------------------------------------------------------')\n",
    "# print the mean squared error for training\n",
    "predrfe_train = lrrfe.predict(Xrfe_train)\n",
    "print('MSE for training : ' + str(mean_squared_error(yrfe_train, predrfe_train)))\n",
    "# print the mean squared error for testing\n",
    "print('MSE for testing : ' + str(mean_squared_error(yrfe_test, predrfe)))\n",
    "print('----------------------------------------------------------------')\n",
    "# Print the columns selected by rfe\n",
    "print('columns selected by rfe')\n",
    "for i in range(X1.shape[1]):\n",
    "  if rfe.support_[i] == True:\n",
    "\t  print('Column: %d' % (i))\n",
    "print('----------------------------------------------------------------')"
   ]
  },
  {
   "cell_type": "markdown",
   "metadata": {
    "id": "oy69YfwLK7Fa"
   },
   "source": [
    "#### Explain your observation. What are the important features found using RFE?\n",
    "\n",
    "**The two most important features found were columns 5 and 6 (considering indexing from 0) i.e. NOX and RM.**"
   ]
  },
  {
   "cell_type": "markdown",
   "metadata": {
    "id": "K6YpdL-UBF8o"
   },
   "source": [
    "#### Compare the three models (with one feature, two features and all the features versus). Which model has a better performance? \n",
    "\n",
    "\n",
    "**The model with all the features seem to have the least MSE thus best performance. The model with two features performs better than the one with single feature but occassionally performs bad. This could be due to the changing samples in the train-test split.**"
   ]
  },
  {
   "cell_type": "code",
   "execution_count": null,
   "metadata": {
    "id": "kqiveBNFBF8t"
   },
   "outputs": [],
   "source": [
    "# Your code goes here \n"
   ]
  },
  {
   "cell_type": "markdown",
   "metadata": {
    "id": "GPKkuAxDBF8u"
   },
   "source": [
    "### Linear regression on the Boston house price dataset\n",
    "\n",
    "Now it's your turn to perform a linear regression on the **Boston housing** dataset."
   ]
  },
  {
   "cell_type": "markdown",
   "metadata": {
    "id": "eF5VNbQaBF8z"
   },
   "source": [
    " #### Exercise 3.3  ( 15 pts)\n",
    " \n",
    "Let's build models with different training sizes to predict the house prices for boston house dataset. Each model should use all the available features. The goal is to train multiple linear regression models for the following train-test splits and calculate and visualize their MSE:\n",
    "\n",
    "1.   30% training, 70% testing \n",
    "2.   40% training, 60% testing\n",
    "3.   50% training, 50% testing\n",
    "4.   60% training, 40% testing\n",
    "5.   70% training, 30% testing\n",
    "6.   80% training, 20% testing. (done previously)\n",
    "\n",
    "\n",
    "*Note: For simplicity, make a function that builds and fits the linear model and returns MSE for test.*"
   ]
  },
  {
   "cell_type": "code",
   "execution_count": 27,
   "metadata": {
    "id": "f3WIH-IqBF80"
   },
   "outputs": [],
   "source": [
    "#Your code goes here\n",
    "def modelBuilding(x, Y, train_size):\n",
    "  # Split the data into training/testing sets\n",
    "  x_train, x_test, Y_train, Y_test = train_test_split(x, Y, test_size=(1-train_size))\n",
    "  # TODO: Train the model \n",
    "  lm = LinearRegression()\n",
    "  lm.fit(x_train,Y_train)\n",
    "  # TODO: Make predictions on test data \n",
    "  pred1 = lm.predict(x_test)\n",
    "  # print the mean squared error for testing\n",
    "  return (mean_squared_error(Y_test, pred1))\n"
   ]
  },
  {
   "cell_type": "markdown",
   "metadata": {
    "id": "eGIbHaDWXRia"
   },
   "source": [
    "\n",
    "Plot the test MSE values for all models with respect to the training size.  "
   ]
  },
  {
   "cell_type": "code",
   "execution_count": 30,
   "metadata": {
    "colab": {
     "base_uri": "https://localhost:8080/",
     "height": 350
    },
    "id": "lUGUS1ItXSLR",
    "outputId": "4b70dc23-3366-435d-ccb5-ab88131b9f9d"
   },
   "outputs": [
    {
     "data": {
      "image/png": "[encoded data removed]",
      "text/plain": [
       "<Figure size 432x288 with 1 Axes>"
      ]
     },
     "metadata": {
      "needs_background": "light"
     },
     "output_type": "display_data"
    }
   ],
   "source": [
    "#Your code goes here\n",
    "import matplotlib.pyplot as plt\n",
    "fig = plt.figure()\n",
    "ax = fig.add_axes([0,0,1,1])\n",
    "xaxis = ['30','40','50','60','70','80']\n",
    "mse_values = []\n",
    "for i in xaxis:\n",
    "  tr_size = (int(i)/100)\n",
    "  mse_values.append(modelBuilding(X1,y1,tr_size))\n",
    "ax.set_ylabel('MSE values')\n",
    "ax.set_xlabel('Training sizes in percentage')\n",
    "ax.bar(xaxis,mse_values)\n",
    "plt.show()"
   ]
  },
  {
   "cell_type": "markdown",
   "metadata": {
    "id": "csYHO08dBF85"
   },
   "source": [
    " #### Exercise 3.4  ( 30 pts)\n",
    " \n",
    " Next, we want to use `RFE` to find the best set of features for prediction. When we used `RFE` in 3.2, we chose an arbitrary value for number of features. In practice, we don't know the best number of features to select for `RFE`, so we have to test different values. In this case, the number of features is the hyperparameter that we want to tune. \n",
    "Typically, we use cross validation for tuning hyperparameters. \n",
    "\n",
    "Recall that cross validation is a technique where we split our data into equal folds and then use one fold for testing and the rest for training. We can use `KFold` [Documentation](https://scikit-learn.org/stable/modules/generated/sklearn.model_selection.KFold.html) form scikit learn `model_selection` to split our data into desired folds. We can also use `cross_val_score` [Documentation](https://scikit-learn.org/stable/modules/generated/sklearn.model_selection.cross_val_score.html) to evaluate a score by cross validation. \n",
    " \n",
    "\n",
    "For this exercise, use `RFE` with cross-validation (K = 5 aka 5fold) to find the best set of features for prediction. \n",
    "\n",
    "\n",
    " - Make an RFE model with i number of features\n",
    " - Create a 5-fold CV on the data set \n",
    " - Fit the model with Cross validation using the best features and store the MSE values\n",
    " - Draw a box plot for MSE values of each model and pick the best number of features\n",
    "\n",
    "Note that the Boston housing data set contains 13 features, so you must create 13 models (one per each i best features selected with RFE) and use that model with 5-fold CV. At the end, you should have 13 models with 5 MSE values for each model (results of CV). \n",
    "\n",
    "Plot a side-by-side boxplot and compare the distribution of MSE values for these 13 models. \n",
    "\n",
    "\n",
    "\n"
   ]
  },
  {
   "cell_type": "code",
   "execution_count": 39,
   "metadata": {
    "colab": {
     "base_uri": "https://localhost:8080/",
     "height": 295
    },
    "id": "cB4GaQG8BF86",
    "outputId": "b227cb7c-8e14-4c4e-8100-02909f23f858"
   },
   "outputs": [
    {
     "data": {
      "image/png": "[encoded data removed]",
      "text/plain": [
       "<Figure size 432x288 with 1 Axes>"
      ]
     },
     "metadata": {
      "needs_background": "light"
     },
     "output_type": "display_data"
    }
   ],
   "source": [
    "from sklearn.model_selection import KFold\n",
    "from sklearn.model_selection import cross_val_score\n",
    "\n",
    "#Your code goes here\n",
    "list_scores = []\n",
    "for i in range(13):\n",
    "  mdl = LinearRegression()\n",
    "  rfekf = RFE(mdl, n_features_to_select=i+1)\n",
    "  rfekf.fit(X1,y1)\n",
    "  Xrfekf = rfekf.transform(X1)\n",
    "  folds = KFold(n_splits = 5)\n",
    "  scores = cross_val_score(lm, Xrfekf, y1, scoring='neg_mean_squared_error', cv=folds)\n",
    "  scores = scores * -1\n",
    "  list_scores.append(scores)\n",
    "\n",
    "fig, ax = plt.subplots()\n",
    "ax.boxplot(list_scores,meanline = True)\n",
    "\n",
    "ax.set_title('Box plot of MSE vs Number of best features with K fold Cross validation of K = 5')\n",
    "ax.set_xlabel('Number of best features')\n",
    "ax.set_ylabel('MSE')\n",
    "xticklabels=['1','2','3','4','5','6','7','8','9','10','11','12','13']\n",
    "ax.set_xticklabels(xticklabels)\n",
    "\n",
    "plt.show()"
   ]
  },
  {
   "cell_type": "markdown",
   "metadata": {
    "id": "76Hx-4CkYFul"
   },
   "source": [
    "Based on the previous plot, pick the model with lowest average MSE as the best result. What is the best number of features? Which features are selected?\n",
    "\n",
    "**The model with the 6 best features has the lowest average MSE**"
   ]
  },
  {
   "cell_type": "code",
   "execution_count": 36,
   "metadata": {
    "colab": {
     "base_uri": "https://localhost:8080/"
    },
    "id": "phgO08267bbg",
    "outputId": "a7815372-1506-4e09-cb80-8a78b8c1e9d4"
   },
   "outputs": [
    {
     "name": "stdout",
     "output_type": "stream",
     "text": [
      "Column: 3\n",
      "Column: 4\n",
      "Column: 5\n",
      "Column: 7\n",
      "Column: 10\n",
      "Column: 12\n"
     ]
    }
   ],
   "source": [
    "# Print the columns selected by rfe\n",
    "md = LinearRegression()\n",
    "rfe = RFE(mdl, n_features_to_select=6)\n",
    "rfe.fit(X1,y1)\n",
    "print('Columns selected by rfe')\n",
    "for i in range(X1.shape[1]):\n",
    "  if rfe.support_[i] == True:\n",
    "\t  print('Column: %d' % (i))"
   ]
  },
  {
   "cell_type": "markdown",
   "metadata": {
    "id": "dVGhvGK59P_Z"
   },
   "source": [
    "**The columns 4,5,6,8,11 and 13 (considering zero indexing) i.e. CHAS, NOX, RM, DIS, PTRATIO and LSTAT have been selected as the 6 best features.**"
   ]
  },
  {
   "cell_type": "markdown",
   "metadata": {
    "id": "1GC4-prZBF88"
   },
   "source": [
    "#### Exercise 3.5 (10 pts)\n",
    "\n",
    "Another way of doing RFE with CV is using `RFECV` [Documentation](https://scikit-learn.org/stable/modules/generated/sklearn.feature_selection.RFECV.html#sklearn.feature_selection.RFECV) which performs the same task as `RFE` while performing a cross validation task. \n",
    "Use `RFECV` to find the best number of features for a regression model for Boston housing data set.  Which features are selected? (you can use `ranking_` attribute)\n",
    "\n",
    "Some Notes: \n",
    "\n",
    "- For `scoring` parameter you can use `neg_mean_squared_error` to get MSE. You can read [model evaluation documentation](https://scikit-learn.org/stable/modules/model_evaluation.html) to learn what values you can pass for this parameter\n",
    "\n",
    "- The default value for `cv` parameter in `RFECV` model is 5-fold cross-validation\n",
    "\n",
    "- Your results for RFE may vary (values with different numerical precision) given the stochastic nature of the algorithm and evaluation process.\n",
    "\n",
    "- Specifying random_state parameter ensures the same random partitions are used across different runs \n",
    "\n",
    "- Read the documentation to learn more about parameters and attributes for each model we discussed."
   ]
  },
  {
   "cell_type": "code",
   "execution_count": 40,
   "metadata": {
    "colab": {
     "base_uri": "https://localhost:8080/"
    },
    "id": "bdUAWe1pBF89",
    "outputId": "f673cc59-734e-4cf2-d04b-7b5e2bfdf36f"
   },
   "outputs": [
    {
     "data": {
      "text/plain": [
       "array([3, 4, 6, 1, 1, 1, 8, 1, 2, 5, 1, 7, 1])"
      ]
     },
     "execution_count": 40,
     "metadata": {},
     "output_type": "execute_result"
    }
   ],
   "source": [
    "#Your code goes here\n",
    "from sklearn.feature_selection import RFECV\n",
    "mdl = LinearRegression()\n",
    "selector = RFECV(mdl, cv=5, scoring ='neg_mean_squared_error' )\n",
    "selector = selector.fit(X1, y1)\n",
    "selector.ranking_"
   ]
  },
  {
   "cell_type": "markdown",
   "metadata": {
    "id": "C46wCGWpBF89"
   },
   "source": [
    "###Which features are selected?\n",
    "\n",
    "**The features selected by RFECV are the columns 4,5,6,8,11 and 13 i.e. CHAS, NOX, RM, DIS, PTRATIO and LSTAT**"
   ]
  },
  {
   "cell_type": "markdown",
   "metadata": {
    "id": "bIe-zjt0BF8w"
   },
   "source": [
    "#### Exercise 3.6 ( 10 pts)\n",
    "\n",
    "The Boston housing prices dataset has an ethical problem. Describe here why.\n",
    "\n",
    "###**The inclusion of the column 'B' which stands for Black proportion of population is the ethical problem here. The authors of the dataset, in their paper talk about their assumption that increase in B should negatively affect MEDV. The inclusion of this column also will lead to systemic racism if used official systems.[1]**\n",
    "\n"
   ]
  },
  {
   "cell_type": "markdown",
   "metadata": {
    "id": "rtoDUgQSGsir"
   },
   "source": [
    "**REFERENCES:**\n",
    "\n",
    "[1] https://medium.com/@docintangible/racist-data-destruction-113e3eff54a8"
   ]
  },
  {
   "cell_type": "code",
   "execution_count": null,
   "metadata": {
    "id": "kj5pbEK7G2BK"
   },
   "outputs": [],
   "source": []
  }
 ],
 "metadata": {
  "colab": {
   "collapsed_sections": [
    "bIe-zjt0BF8w"
   ],
   "provenance": []
  },
  "kernelspec": {
   "display_name": "Python 3",
   "language": "python",
   "name": "python3"
  },
  "language_info": {
   "codemirror_mode": {
    "name": "ipython",
    "version": 3
   },
   "file_extension": ".py",
   "mimetype": "text/x-python",
   "name": "python",
   "nbconvert_exporter": "python",
   "pygments_lexer": "ipython3",
   "version": "3.8.8"
  }
 },
 "nbformat": 4,
 "nbformat_minor": 1
}
