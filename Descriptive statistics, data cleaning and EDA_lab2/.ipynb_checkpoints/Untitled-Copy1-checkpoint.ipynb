{
 "cells": [
  {
   "cell_type": "markdown",
   "id": "edc1e98e",
   "metadata": {},
   "source": [
    "# **CS418 LAB 2**"
   ]
  },
  {
   "cell_type": "markdown",
   "id": "0bbe4f36",
   "metadata": {},
   "source": [
    "## DESCRIPTIVE STATISTICS"
   ]
  },
  {
   "cell_type": "markdown",
   "id": "ecbfcfb9",
   "metadata": {},
   "source": [
    "## **1. Loading the data into dataFrame from the CSV File**"
   ]
  },
  {
   "cell_type": "code",
   "execution_count": 1,
   "id": "1c5f40bc",
   "metadata": {},
   "outputs": [],
   "source": [
    "import pandas as pd"
   ]
  },
  {
   "cell_type": "code",
   "execution_count": 2,
   "id": "f570f7c4",
   "metadata": {},
   "outputs": [],
   "source": [
    "df = pd.read_csv (r'/Users/praveenrajveluswami/Documents/CS418 - IDS/lab2/heroes_information.csv')"
   ]
  },
  {
   "cell_type": "markdown",
   "id": "fc4d0d38",
   "metadata": {},
   "source": [
    "## **2. Data type description of each column**"
   ]
  },
  {
   "cell_type": "markdown",
   "id": "d0304865",
   "metadata": {},
   "source": [
    "* **ID:**  Discrete\n",
    "* **name:**  Nominal\n",
    "* **Gender:**  Nominal\n",
    "* **Eye color:**  Nominal\n",
    "* **Race:**  Nominal\n",
    "* **Hair color:**  Nominal\n",
    "* **Height:**  Continuous\n",
    "* **Publisher:**  Nominal\n",
    "* **Skin color:**  Nominal\n",
    "* **Alignment:**  Ordinal\n",
    "* **Weight:**  Continuous\n"
   ]
  },
  {
   "cell_type": "markdown",
   "id": "2874aa0e",
   "metadata": {},
   "source": [
    "## **3. Compute the following measures for each column : Central tendencies and Dispersion**"
   ]
  },
  {
   "cell_type": "markdown",
   "id": "9efefdea",
   "metadata": {},
   "source": [
    "* For several columns here, especially the nominal and ordinal data types: name, Gender, eye color, Race, Hair color, Publisher, Skin color and Alignment, central tendencies and dispersion except mode cannot be calculated since their values are not numerical.\n",
    "* Proposed solution: Replace their values with integers i.e. 0,1,2,3... We replace blank/invalid values with 0.\n",
    "* We follow this approach for columns other than 'name' (name is neither qualitative not quantitative) and compute these values. Although we would get a mean,median,etc. values for 'Gender',etc., this will not logically make sense."
   ]
  },
  {
   "cell_type": "markdown",
   "id": "2988e4c5",
   "metadata": {},
   "source": [
    "### Column name: **ID**"
   ]
  },
  {
   "cell_type": "markdown",
   "id": "56296fb9",
   "metadata": {},
   "source": [
    "**a.i. Mean :**"
   ]
  },
  {
   "cell_type": "markdown",
   "id": "5daa197f",
   "metadata": {},
   "source": [
    "Although mean can be computer for this column as the values are integers, it is not going to be helpful in gaining any insights about the data since these are just indexes of rows in our data."
   ]
  },
  {
   "cell_type": "code",
   "execution_count": 3,
   "id": "4360fa41",
   "metadata": {},
   "outputs": [
    {
     "name": "stdout",
     "output_type": "stream",
     "text": [
      "366.5\n"
     ]
    }
   ],
   "source": [
    "print(df[\"ID\"].mean())"
   ]
  },
  {
   "cell_type": "markdown",
   "id": "fed6af19",
   "metadata": {},
   "source": [
    "**a.ii. Median :**"
   ]
  },
  {
   "cell_type": "markdown",
   "id": "5d985501",
   "metadata": {},
   "source": [
    "Since the values are just indexes of rows, the median is simply the total number of records divided by 2. It gives us the row at the middle of our dataset although it doesn't serve much purpose."
   ]
  },
  {
   "cell_type": "code",
   "execution_count": 4,
   "id": "0642faa0",
   "metadata": {},
   "outputs": [
    {
     "name": "stdout",
     "output_type": "stream",
     "text": [
      "366.5\n"
     ]
    }
   ],
   "source": [
    "print(df[\"ID\"].median())"
   ]
  },
  {
   "cell_type": "markdown",
   "id": "08a4d820",
   "metadata": {},
   "source": [
    "**a.iii. Mode :**"
   ]
  },
  {
   "cell_type": "markdown",
   "id": "b7151d3c",
   "metadata": {},
   "source": [
    "The values in this column are never repeated. This means frequency of each value is 1."
   ]
  },
  {
   "cell_type": "code",
   "execution_count": 5,
   "id": "3034ae06",
   "metadata": {},
   "outputs": [
    {
     "name": "stdout",
     "output_type": "stream",
     "text": [
      "0        0\n",
      "1        1\n",
      "2        2\n",
      "3        3\n",
      "4        4\n",
      "      ... \n",
      "729    729\n",
      "730    730\n",
      "731    731\n",
      "732    732\n",
      "733    733\n",
      "Length: 734, dtype: int64\n"
     ]
    }
   ],
   "source": [
    "print(df[\"ID\"].mode())"
   ]
  },
  {
   "cell_type": "markdown",
   "id": "16da676f",
   "metadata": {},
   "source": [
    "**b.i. Standard Deviation :**"
   ]
  },
  {
   "cell_type": "code",
   "execution_count": 6,
   "id": "c819a0f5",
   "metadata": {},
   "outputs": [
    {
     "name": "stdout",
     "output_type": "stream",
     "text": [
      "212.03183723205342\n"
     ]
    }
   ],
   "source": [
    "print(df[\"ID\"].std())"
   ]
  },
  {
   "cell_type": "markdown",
   "id": "313781c4",
   "metadata": {},
   "source": [
    "**b.ii. Variance :**"
   ]
  },
  {
   "cell_type": "code",
   "execution_count": 7,
   "id": "3ab98afd",
   "metadata": {},
   "outputs": [
    {
     "name": "stdout",
     "output_type": "stream",
     "text": [
      "44957.5\n"
     ]
    }
   ],
   "source": [
    "print(df.var()['ID'])"
   ]
  },
  {
   "cell_type": "markdown",
   "id": "88e9054d",
   "metadata": {},
   "source": [
    "**b.iii. IQR :**"
   ]
  },
  {
   "cell_type": "code",
   "execution_count": 8,
   "id": "181a6e35",
   "metadata": {},
   "outputs": [
    {
     "name": "stdout",
     "output_type": "stream",
     "text": [
      "366.5\n"
     ]
    }
   ],
   "source": [
    "import numpy as np\n",
    "q75, q25 = np.percentile(df['ID'], [75 ,25])\n",
    "iqr = q75 - q25\n",
    "print(iqr)"
   ]
  },
  {
   "cell_type": "markdown",
   "id": "c3a1f147",
   "metadata": {},
   "source": [
    "**b.iv. Skew :**"
   ]
  },
  {
   "cell_type": "code",
   "execution_count": 9,
   "id": "2977c463",
   "metadata": {},
   "outputs": [
    {
     "name": "stdout",
     "output_type": "stream",
     "text": [
      "0.0\n"
     ]
    }
   ],
   "source": [
    "print(df['ID'].skew())"
   ]
  },
  {
   "cell_type": "markdown",
   "id": "da18fc3b",
   "metadata": {},
   "source": [
    "### Column name: **Name**"
   ]
  },
  {
   "cell_type": "markdown",
   "id": "20f62b28",
   "metadata": {},
   "source": [
    "**a.i. Mean :**"
   ]
  },
  {
   "cell_type": "markdown",
   "id": "c5c8cff7",
   "metadata": {},
   "source": [
    "Since this column has nominal data, it is not possible to compute mean. The values can also not be encoded into numercial form."
   ]
  },
  {
   "cell_type": "markdown",
   "id": "9fa24382",
   "metadata": {},
   "source": [
    "**a.ii. Median :**"
   ]
  },
  {
   "cell_type": "markdown",
   "id": "12a20010",
   "metadata": {},
   "source": [
    "Since this column has nominal data, it is not possible to compute median. The values can also not be encoded into numercial form."
   ]
  },
  {
   "cell_type": "markdown",
   "id": "74a71f45",
   "metadata": {},
   "source": [
    "**a.iii. Mode :**"
   ]
  },
  {
   "cell_type": "markdown",
   "id": "d3125ecd",
   "metadata": {},
   "source": [
    "Although the values are nominal, frequency for each value can be calculated through which mode can be computed. In this case, this might give insights into duplicate records."
   ]
  },
  {
   "cell_type": "code",
   "execution_count": 10,
   "id": "628583a0",
   "metadata": {},
   "outputs": [
    {
     "name": "stdout",
     "output_type": "stream",
     "text": [
      "0       Goliath\n",
      "1    Spider-Man\n",
      "dtype: object\n"
     ]
    }
   ],
   "source": [
    "print(df[\"name\"].mode())"
   ]
  },
  {
   "cell_type": "markdown",
   "id": "13e3580b",
   "metadata": {},
   "source": [
    "**b.i. Standard Deviation :**"
   ]
  },
  {
   "cell_type": "markdown",
   "id": "28ccb68c",
   "metadata": {},
   "source": [
    "Nominal data. Standard Deviation cannot be computed."
   ]
  },
  {
   "cell_type": "markdown",
   "id": "227221ba",
   "metadata": {},
   "source": [
    "**b.ii. Variance :**"
   ]
  },
  {
   "cell_type": "markdown",
   "id": "33449619",
   "metadata": {},
   "source": [
    "Nominal data. Variance cannot be computed."
   ]
  },
  {
   "cell_type": "markdown",
   "id": "48fb6287",
   "metadata": {},
   "source": [
    "**b.iii. IQR :**"
   ]
  },
  {
   "cell_type": "markdown",
   "id": "06d9ee57",
   "metadata": {},
   "source": [
    "Nominal data. IQR cannot be computed."
   ]
  },
  {
   "cell_type": "markdown",
   "id": "fc1ffbdd",
   "metadata": {},
   "source": [
    "**b.iv. Skew :**"
   ]
  },
  {
   "cell_type": "markdown",
   "id": "0bec812e",
   "metadata": {},
   "source": [
    "Nominal data. Skew cannot be computed."
   ]
  },
  {
   "cell_type": "markdown",
   "id": "156ca7a9",
   "metadata": {},
   "source": [
    "### Column name: **Gender**"
   ]
  },
  {
   "cell_type": "markdown",
   "id": "b601bab1",
   "metadata": {},
   "source": [
    "Gender can be encoded into numerical values. For example, male:1 ; female: 2"
   ]
  },
  {
   "cell_type": "code",
   "execution_count": 11,
   "id": "e25bdba4",
   "metadata": {},
   "outputs": [],
   "source": [
    "df = df.replace('Male', 1)"
   ]
  },
  {
   "cell_type": "code",
   "execution_count": 12,
   "id": "fc4db12a",
   "metadata": {},
   "outputs": [],
   "source": [
    "df = df.replace('Female', 2)"
   ]
  },
  {
   "cell_type": "code",
   "execution_count": 13,
   "id": "892a7a79",
   "metadata": {},
   "outputs": [],
   "source": [
    "df['Gender'] = df['Gender'].replace('-',0)"
   ]
  },
  {
   "cell_type": "code",
   "execution_count": 14,
   "id": "34c56abe",
   "metadata": {},
   "outputs": [],
   "source": [
    "df['Gender'] = df['Gender'].astype('int')"
   ]
  },
  {
   "cell_type": "markdown",
   "id": "7ee34ce7",
   "metadata": {},
   "source": [
    "**a.i. Mean :**"
   ]
  },
  {
   "cell_type": "code",
   "execution_count": 15,
   "id": "bb521358",
   "metadata": {},
   "outputs": [
    {
     "name": "stdout",
     "output_type": "stream",
     "text": [
      "1.2329700272479565\n"
     ]
    }
   ],
   "source": [
    "print(df['Gender'].mean())"
   ]
  },
  {
   "cell_type": "markdown",
   "id": "474abb1b",
   "metadata": {},
   "source": [
    "**a.ii. Median :**"
   ]
  },
  {
   "cell_type": "code",
   "execution_count": 16,
   "id": "b871a311",
   "metadata": {},
   "outputs": [
    {
     "name": "stdout",
     "output_type": "stream",
     "text": [
      "1.0\n"
     ]
    }
   ],
   "source": [
    "print(df['Gender'].median())"
   ]
  },
  {
   "cell_type": "markdown",
   "id": "01f33a54",
   "metadata": {},
   "source": [
    "**a.iii. Mode :**"
   ]
  },
  {
   "cell_type": "code",
   "execution_count": 17,
   "id": "c3572b27",
   "metadata": {},
   "outputs": [
    {
     "name": "stdout",
     "output_type": "stream",
     "text": [
      "0    1\n",
      "dtype: int64\n"
     ]
    }
   ],
   "source": [
    "print(df[\"Gender\"].mode())"
   ]
  },
  {
   "cell_type": "markdown",
   "id": "b5fdd66c",
   "metadata": {},
   "source": [
    "i.e. Mode is 'Male'"
   ]
  },
  {
   "cell_type": "markdown",
   "id": "7ae56aa2",
   "metadata": {},
   "source": [
    "**b.i. Standard Deviation :**"
   ]
  },
  {
   "cell_type": "code",
   "execution_count": 18,
   "id": "a623d95c",
   "metadata": {},
   "outputs": [
    {
     "name": "stdout",
     "output_type": "stream",
     "text": [
      "0.5080016292373221\n"
     ]
    }
   ],
   "source": [
    "print(df['Gender'].std())"
   ]
  },
  {
   "cell_type": "markdown",
   "id": "0d9b566c",
   "metadata": {},
   "source": [
    "**b.ii. Variance :**"
   ]
  },
  {
   "cell_type": "code",
   "execution_count": 19,
   "id": "f12b61fb",
   "metadata": {},
   "outputs": [
    {
     "name": "stdout",
     "output_type": "stream",
     "text": [
      "0.2580656553077736\n"
     ]
    }
   ],
   "source": [
    "print(df['Gender'].var())"
   ]
  },
  {
   "cell_type": "markdown",
   "id": "7a3f344d",
   "metadata": {},
   "source": [
    "**b.iii. IQR :**"
   ]
  },
  {
   "cell_type": "code",
   "execution_count": 20,
   "id": "587aaab2",
   "metadata": {},
   "outputs": [
    {
     "name": "stdout",
     "output_type": "stream",
     "text": [
      "1.0\n"
     ]
    }
   ],
   "source": [
    "q75, q25 = np.percentile(df['Gender'], [75 ,25])\n",
    "iqr = q75 - q25\n",
    "print(iqr)"
   ]
  },
  {
   "cell_type": "markdown",
   "id": "acf61bbe",
   "metadata": {},
   "source": [
    "**b.iv. Skew :**"
   ]
  },
  {
   "cell_type": "code",
   "execution_count": 21,
   "id": "58583f4e",
   "metadata": {},
   "outputs": [
    {
     "name": "stdout",
     "output_type": "stream",
     "text": [
      "0.307949299993484\n"
     ]
    }
   ],
   "source": [
    "print(df['Gender'].skew())"
   ]
  },
  {
   "cell_type": "markdown",
   "id": "26a35f6f",
   "metadata": {},
   "source": [
    "### Column name: **Eye color**"
   ]
  },
  {
   "cell_type": "markdown",
   "id": "6c73d96e",
   "metadata": {},
   "source": [
    "Eye color, being categorical data, can be encoded into numerical values. Below are the unique values in the eye color column. These can be encoded as 1,2,3...\n"
   ]
  },
  {
   "cell_type": "code",
   "execution_count": 22,
   "id": "d5fb33f5",
   "metadata": {},
   "outputs": [
    {
     "data": {
      "text/plain": [
       "array(['yellow', 'blue', 'green', 'brown', '-', 'red', 'violet', 'white',\n",
       "       'purple', 'black', 'grey', 'silver', 'yellow / red',\n",
       "       'yellow (without irises)', 'gold', 'blue / white', 'hazel',\n",
       "       'green / blue', 'white / red', 'indigo', 'amber', 'yellow / blue',\n",
       "       'bown'], dtype=object)"
      ]
     },
     "execution_count": 22,
     "metadata": {},
     "output_type": "execute_result"
    }
   ],
   "source": [
    "df['Eye color'].unique()"
   ]
  },
  {
   "cell_type": "code",
   "execution_count": 23,
   "id": "e0aa3f87",
   "metadata": {},
   "outputs": [],
   "source": [
    "df['Eye color'] = df['Eye color'].replace(['yellow', 'blue', 'green', 'brown', '-', 'red', 'violet', 'white',\n",
    "       'purple', 'black', 'grey', 'silver', 'yellow / red',\n",
    "       'yellow (without irises)', 'gold', 'blue / white', 'hazel',\n",
    "       'green / blue', 'white / red', 'indigo', 'amber', 'yellow / blue',\n",
    "       'bown'],[1,2,3,4,0,5,6,7,8,9,10,11,12,13,14,15,16,17,18,19,20,21,22])"
   ]
  },
  {
   "cell_type": "code",
   "execution_count": 24,
   "id": "52a86af0",
   "metadata": {},
   "outputs": [],
   "source": [
    "df['Eye color'] = df['Eye color'].astype('int')"
   ]
  },
  {
   "cell_type": "markdown",
   "id": "d1069393",
   "metadata": {},
   "source": [
    "**a.i. Mean :**"
   ]
  },
  {
   "cell_type": "code",
   "execution_count": 25,
   "id": "30a39121",
   "metadata": {},
   "outputs": [
    {
     "name": "stdout",
     "output_type": "stream",
     "text": [
      "2.9850136239782015\n"
     ]
    }
   ],
   "source": [
    "print(df['Eye color'].mean())"
   ]
  },
  {
   "cell_type": "markdown",
   "id": "1c8ff3f0",
   "metadata": {},
   "source": [
    "**a.ii. Median :**"
   ]
  },
  {
   "cell_type": "code",
   "execution_count": 26,
   "id": "68bb0942",
   "metadata": {},
   "outputs": [
    {
     "name": "stdout",
     "output_type": "stream",
     "text": [
      "2.0\n"
     ]
    }
   ],
   "source": [
    "print(df['Eye color'].median())"
   ]
  },
  {
   "cell_type": "markdown",
   "id": "f772ea66",
   "metadata": {},
   "source": [
    "**a.iii. Mode :**"
   ]
  },
  {
   "cell_type": "code",
   "execution_count": 111,
   "id": "31b6ec7e",
   "metadata": {},
   "outputs": [
    {
     "name": "stdout",
     "output_type": "stream",
     "text": [
      "0    2\n",
      "dtype: int64\n"
     ]
    }
   ],
   "source": [
    "print(df[\"Eye color\"].mode())"
   ]
  },
  {
   "cell_type": "markdown",
   "id": "1c9bdfa9",
   "metadata": {},
   "source": [
    "i.e. Mode is 'Blue'"
   ]
  },
  {
   "cell_type": "markdown",
   "id": "302f5118",
   "metadata": {},
   "source": [
    "**b.i. Standard Deviation :**"
   ]
  },
  {
   "cell_type": "code",
   "execution_count": 28,
   "id": "41a14fb9",
   "metadata": {},
   "outputs": [
    {
     "name": "stdout",
     "output_type": "stream",
     "text": [
      "3.1937941080673116\n"
     ]
    }
   ],
   "source": [
    "print(df['Eye color'].std())"
   ]
  },
  {
   "cell_type": "markdown",
   "id": "5f990350",
   "metadata": {},
   "source": [
    "**b.ii. Variance :**"
   ]
  },
  {
   "cell_type": "code",
   "execution_count": 29,
   "id": "79ba4656",
   "metadata": {},
   "outputs": [
    {
     "name": "stdout",
     "output_type": "stream",
     "text": [
      "10.200320804725475\n"
     ]
    }
   ],
   "source": [
    "print(df['Eye color'].var())"
   ]
  },
  {
   "cell_type": "markdown",
   "id": "252c9548",
   "metadata": {},
   "source": [
    "**b.iii. IQR :**"
   ]
  },
  {
   "cell_type": "code",
   "execution_count": 30,
   "id": "f3697250",
   "metadata": {},
   "outputs": [
    {
     "name": "stdout",
     "output_type": "stream",
     "text": [
      "3.0\n"
     ]
    }
   ],
   "source": [
    "q75, q25 = np.percentile(df['Eye color'], [75 ,25])\n",
    "iqr = q75 - q25\n",
    "print(iqr)"
   ]
  },
  {
   "cell_type": "markdown",
   "id": "5e90bbc8",
   "metadata": {},
   "source": [
    "**b.iv. Skew :**"
   ]
  },
  {
   "cell_type": "code",
   "execution_count": 31,
   "id": "959f6d3a",
   "metadata": {},
   "outputs": [
    {
     "name": "stdout",
     "output_type": "stream",
     "text": [
      "2.492321498022643\n"
     ]
    }
   ],
   "source": [
    "print(df['Eye color'].skew())"
   ]
  },
  {
   "cell_type": "markdown",
   "id": "f01348e4",
   "metadata": {},
   "source": [
    "### Column name: **Race**"
   ]
  },
  {
   "cell_type": "markdown",
   "id": "329f73ae",
   "metadata": {},
   "source": [
    "This is same as the Eye color column. Race, being categorical data, can be encoded into numerical values. Below are the unique values in the Race column. These can be encoded as 1,2,3...\n"
   ]
  },
  {
   "cell_type": "code",
   "execution_count": 32,
   "id": "ba81059e",
   "metadata": {},
   "outputs": [
    {
     "data": {
      "text/plain": [
       "array(['Human', 'Icthyo Sapien', 'Ungaran', 'Human / Radiation',\n",
       "       'Cosmic Entity', '-', 'Cyborg', 'Xenomorph XX121', 'Android',\n",
       "       'Vampire', 'Mutant', 'God / Eternal', 'Symbiote', 'Atlantean',\n",
       "       'Alien', 'Neyaphem', 'New God', 'Alpha', 'Bizarro', 'Inhuman',\n",
       "       'Metahuman', 'Demon', 'Human / Clone', 'Human-Kree',\n",
       "       'Dathomirian Zabrak', 'Amazon', 'Human / Cosmic',\n",
       "       'Human / Altered', 'Kryptonian', 'Kakarantharaian',\n",
       "       'Zen-Whoberian', 'Strontian', 'Kaiju', 'Saiyan', 'Gorilla',\n",
       "       'Rodian', 'Flora Colossus', 'Human-Vuldarian', 'Asgardian',\n",
       "       'Demi-God', 'Eternal', 'Gungan', 'Bolovaxian', 'Animal',\n",
       "       'Czarnian', 'Martian', 'Spartoi', 'Planet', 'Luphomoid',\n",
       "       'Parademon', 'Yautja', 'Maiar', 'Clone', 'Talokite', 'Korugaran',\n",
       "       'Zombie', 'Human-Vulcan', 'Human-Spartoi', 'Tamaranean',\n",
       "       'Frost Giant', 'Mutant / Clone', \"Yoda's species\"], dtype=object)"
      ]
     },
     "execution_count": 32,
     "metadata": {},
     "output_type": "execute_result"
    }
   ],
   "source": [
    "(df['Race'].unique())"
   ]
  },
  {
   "cell_type": "code",
   "execution_count": 33,
   "id": "3a8b6d6b",
   "metadata": {},
   "outputs": [
    {
     "name": "stdout",
     "output_type": "stream",
     "text": [
      "0,1,2,3,4,5,6,7,8,9,10,11,12,13,14,15,16,17,18,19,20,21,22,23,24,25,26,27,28,29,30,31,32,33,34,35,36,37,38,39,40,41,42,43,44,45,46,47,48,49,50,51,52,53,54,55,56,57,58,59,60,61,62,\n"
     ]
    }
   ],
   "source": [
    "for i in range(63):\n",
    "    print(i, end=\",\")\n",
    "print()"
   ]
  },
  {
   "cell_type": "code",
   "execution_count": 34,
   "id": "63e95b81",
   "metadata": {},
   "outputs": [],
   "source": [
    "df['Race'] = df['Race'].replace(['Human', 'Icthyo Sapien', 'Ungaran', 'Human / Radiation',\n",
    "       'Cosmic Entity', '-', 'Cyborg', 'Xenomorph XX121', 'Android',\n",
    "       'Vampire', 'Mutant', 'God / Eternal', 'Symbiote', 'Atlantean',\n",
    "       'Alien', 'Neyaphem', 'New God', 'Alpha', 'Bizarro', 'Inhuman',\n",
    "       'Metahuman', 'Demon', 'Human / Clone', 'Human-Kree',\n",
    "       'Dathomirian Zabrak', 'Amazon', 'Human / Cosmic',\n",
    "       'Human / Altered', 'Kryptonian', 'Kakarantharaian',\n",
    "       'Zen-Whoberian', 'Strontian', 'Kaiju', 'Saiyan', 'Gorilla',\n",
    "       'Rodian', 'Flora Colossus', 'Human-Vuldarian', 'Asgardian',\n",
    "       'Demi-God', 'Eternal', 'Gungan', 'Bolovaxian', 'Animal',\n",
    "       'Czarnian', 'Martian', 'Spartoi', 'Planet', 'Luphomoid',\n",
    "       'Parademon', 'Yautja', 'Maiar', 'Clone', 'Talokite', 'Korugaran',\n",
    "       'Zombie', 'Human-Vulcan', 'Human-Spartoi', 'Tamaranean',\n",
    "       'Frost Giant', 'Mutant / Clone', \"Yoda's species\"],[1,2,3,4,5,0,6,7,8,9,10,11,12,13,14,15,16,17,18,19,20,21,22,23,24,25,26,27,28,29,30,31,32,33,34,35,36,37,38,39,40,41,42,43,44,45,46,47,48,49,50,51,52,53,54,55,56,57,58,59,60,61])"
   ]
  },
  {
   "cell_type": "code",
   "execution_count": 35,
   "id": "d4131b75",
   "metadata": {},
   "outputs": [],
   "source": [
    "df['Race'] = df['Race'].astype('int')"
   ]
  },
  {
   "cell_type": "markdown",
   "id": "a3f646ab",
   "metadata": {},
   "source": [
    "**a.i. Mean :**"
   ]
  },
  {
   "cell_type": "code",
   "execution_count": 36,
   "id": "50be719e",
   "metadata": {},
   "outputs": [
    {
     "name": "stdout",
     "output_type": "stream",
     "text": [
      "5.8732970027247955\n"
     ]
    }
   ],
   "source": [
    "print(df['Race'].mean())"
   ]
  },
  {
   "cell_type": "markdown",
   "id": "18691706",
   "metadata": {},
   "source": [
    "**a.ii. Median :**"
   ]
  },
  {
   "cell_type": "code",
   "execution_count": 37,
   "id": "a38571fa",
   "metadata": {},
   "outputs": [
    {
     "name": "stdout",
     "output_type": "stream",
     "text": [
      "1.0\n"
     ]
    }
   ],
   "source": [
    "print(df['Race'].median())"
   ]
  },
  {
   "cell_type": "markdown",
   "id": "2087eb45",
   "metadata": {},
   "source": [
    "**a.iii. Mode :**"
   ]
  },
  {
   "cell_type": "code",
   "execution_count": 38,
   "id": "dbe6f385",
   "metadata": {},
   "outputs": [
    {
     "name": "stdout",
     "output_type": "stream",
     "text": [
      "0    0\n",
      "dtype: int64\n"
     ]
    }
   ],
   "source": [
    "print(df[\"Race\"].mode())"
   ]
  },
  {
   "cell_type": "markdown",
   "id": "1f8feea6",
   "metadata": {},
   "source": [
    "i.e. Mode is '-'"
   ]
  },
  {
   "cell_type": "markdown",
   "id": "5885a383",
   "metadata": {},
   "source": [
    "**b.i. Standard Deviation :**"
   ]
  },
  {
   "cell_type": "code",
   "execution_count": 39,
   "id": "8b817c03",
   "metadata": {},
   "outputs": [
    {
     "name": "stdout",
     "output_type": "stream",
     "text": [
      "11.488485048328451\n"
     ]
    }
   ],
   "source": [
    "print(df['Race'].std())"
   ]
  },
  {
   "cell_type": "markdown",
   "id": "01cb0b86",
   "metadata": {},
   "source": [
    "**b.ii. Variance :**"
   ]
  },
  {
   "cell_type": "code",
   "execution_count": 40,
   "id": "82ee5e67",
   "metadata": {},
   "outputs": [
    {
     "name": "stdout",
     "output_type": "stream",
     "text": [
      "131.98528870566636\n"
     ]
    }
   ],
   "source": [
    "print(df['Race'].var())"
   ]
  },
  {
   "cell_type": "markdown",
   "id": "350363fe",
   "metadata": {},
   "source": [
    "**b.iii. IQR :**"
   ]
  },
  {
   "cell_type": "code",
   "execution_count": 41,
   "id": "2c51a383",
   "metadata": {},
   "outputs": [
    {
     "name": "stdout",
     "output_type": "stream",
     "text": [
      "8.75\n"
     ]
    }
   ],
   "source": [
    "q75, q25 = np.percentile(df['Race'], [75 ,25])\n",
    "iqr = q75 - q25\n",
    "print(iqr)"
   ]
  },
  {
   "cell_type": "markdown",
   "id": "24a1ddc3",
   "metadata": {},
   "source": [
    "**b.iv. Skew :**"
   ]
  },
  {
   "cell_type": "code",
   "execution_count": 42,
   "id": "bc96b85c",
   "metadata": {},
   "outputs": [
    {
     "name": "stdout",
     "output_type": "stream",
     "text": [
      "2.6983562409134008\n"
     ]
    }
   ],
   "source": [
    "print(df['Race'].skew())"
   ]
  },
  {
   "cell_type": "markdown",
   "id": "870bdb9b",
   "metadata": {},
   "source": [
    "### Column name: **Hair color**"
   ]
  },
  {
   "cell_type": "markdown",
   "id": "0b229607",
   "metadata": {},
   "source": [
    "This is same as the previous 2 columns. Hair color, being categorical data, can be encoded into numerical values. Below are the unique values in the Hair color column. These can be encoded as 1,2,3...\n"
   ]
  },
  {
   "cell_type": "code",
   "execution_count": 43,
   "id": "6cee7871",
   "metadata": {},
   "outputs": [
    {
     "data": {
      "text/plain": [
       "array(['No Hair', 'Black', 'Blond', 'Brown', '-', 'White', 'Purple',\n",
       "       'Orange', 'Pink', 'Red', 'Auburn', 'Strawberry Blond', 'black',\n",
       "       'Blue', 'Green', 'Magenta', 'Brown / Black', 'Brown / White',\n",
       "       'blond', 'Silver', 'Red / Grey', 'Grey', 'Orange / White',\n",
       "       'Yellow', 'Brownn', 'Gold', 'Red / Orange', 'Indigo',\n",
       "       'Red / White', 'Black / Blue'], dtype=object)"
      ]
     },
     "execution_count": 43,
     "metadata": {},
     "output_type": "execute_result"
    }
   ],
   "source": [
    "(df['Hair color'].unique())"
   ]
  },
  {
   "cell_type": "code",
   "execution_count": 44,
   "id": "42203d5d",
   "metadata": {},
   "outputs": [
    {
     "name": "stdout",
     "output_type": "stream",
     "text": [
      "0,1,2,3,4,5,6,7,8,9,10,11,12,13,14,15,16,17,18,19,20,21,22,23,24,25,26,27,28,29,\n"
     ]
    }
   ],
   "source": [
    "for i in range(30):\n",
    "    print(i, end=\",\")\n",
    "print()"
   ]
  },
  {
   "cell_type": "code",
   "execution_count": 45,
   "id": "18610b47",
   "metadata": {},
   "outputs": [],
   "source": [
    "df['Hair color'] = df['Hair color'].replace(['No Hair', 'Black', 'Blond', 'Brown', '-', 'White', 'Purple',\n",
    "       'Orange', 'Pink', 'Red', 'Auburn', 'Strawberry Blond', 'black',\n",
    "       'Blue', 'Green', 'Magenta', 'Brown / Black', 'Brown / White',\n",
    "       'blond', 'Silver', 'Red / Grey', 'Grey', 'Orange / White',\n",
    "       'Yellow', 'Brownn', 'Gold', 'Red / Orange', 'Indigo',\n",
    "       'Red / White', 'Black / Blue'],[1,2,3,4,0,5,6,7,8,9,10,11,12,13,14,15,16,17,18,19,20,21,22,23,24,25,26,27,28,29])"
   ]
  },
  {
   "cell_type": "code",
   "execution_count": 46,
   "id": "458cdc5a",
   "metadata": {},
   "outputs": [],
   "source": [
    "df['Hair color'] = df['Hair color'].astype('int')"
   ]
  },
  {
   "cell_type": "markdown",
   "id": "5c87d7e7",
   "metadata": {},
   "source": [
    "**a.i. Mean :**"
   ]
  },
  {
   "cell_type": "code",
   "execution_count": 47,
   "id": "469fd419",
   "metadata": {},
   "outputs": [
    {
     "name": "stdout",
     "output_type": "stream",
     "text": [
      "3.587193460490463\n"
     ]
    }
   ],
   "source": [
    "print(df['Hair color'].mean())"
   ]
  },
  {
   "cell_type": "markdown",
   "id": "30136924",
   "metadata": {},
   "source": [
    "**a.ii. Median :**"
   ]
  },
  {
   "cell_type": "code",
   "execution_count": 48,
   "id": "41b4bf8b",
   "metadata": {},
   "outputs": [
    {
     "name": "stdout",
     "output_type": "stream",
     "text": [
      "2.0\n"
     ]
    }
   ],
   "source": [
    "print(df['Hair color'].median())"
   ]
  },
  {
   "cell_type": "markdown",
   "id": "cfbdee36",
   "metadata": {},
   "source": [
    "**a.iii. Mode :**"
   ]
  },
  {
   "cell_type": "code",
   "execution_count": 49,
   "id": "85aa3e01",
   "metadata": {},
   "outputs": [
    {
     "name": "stdout",
     "output_type": "stream",
     "text": [
      "0    0\n",
      "dtype: int64\n"
     ]
    }
   ],
   "source": [
    "print(df[\"Hair color\"].mode())"
   ]
  },
  {
   "cell_type": "markdown",
   "id": "0ab65f93",
   "metadata": {},
   "source": [
    "i.e. Mode is '-'"
   ]
  },
  {
   "cell_type": "markdown",
   "id": "72e02e7c",
   "metadata": {},
   "source": [
    "**b.i. Standard Deviation :**"
   ]
  },
  {
   "cell_type": "code",
   "execution_count": 50,
   "id": "b8a4b1a0",
   "metadata": {},
   "outputs": [
    {
     "name": "stdout",
     "output_type": "stream",
     "text": [
      "4.622431755281572\n"
     ]
    }
   ],
   "source": [
    "print(df['Hair color'].std())"
   ]
  },
  {
   "cell_type": "markdown",
   "id": "0f03ef69",
   "metadata": {},
   "source": [
    "**b.ii. Variance :**"
   ]
  },
  {
   "cell_type": "code",
   "execution_count": 51,
   "id": "b77a6dda",
   "metadata": {},
   "outputs": [
    {
     "name": "stdout",
     "output_type": "stream",
     "text": [
      "21.366875332235477\n"
     ]
    }
   ],
   "source": [
    "print(df['Hair color'].var())"
   ]
  },
  {
   "cell_type": "markdown",
   "id": "6cc88dab",
   "metadata": {},
   "source": [
    "**b.iii. IQR :**"
   ]
  },
  {
   "cell_type": "code",
   "execution_count": 52,
   "id": "5d7d821f",
   "metadata": {},
   "outputs": [
    {
     "name": "stdout",
     "output_type": "stream",
     "text": [
      "3.0\n"
     ]
    }
   ],
   "source": [
    "q75, q25 = np.percentile(df['Hair color'], [75 ,25])\n",
    "iqr = q75 - q25\n",
    "print(iqr)"
   ]
  },
  {
   "cell_type": "markdown",
   "id": "dd3a68a0",
   "metadata": {},
   "source": [
    "**b.iv. Skew :**"
   ]
  },
  {
   "cell_type": "code",
   "execution_count": 53,
   "id": "f544d942",
   "metadata": {},
   "outputs": [
    {
     "name": "stdout",
     "output_type": "stream",
     "text": [
      "2.4911001104075314\n"
     ]
    }
   ],
   "source": [
    "print(df['Hair color'].skew())"
   ]
  },
  {
   "cell_type": "markdown",
   "id": "1eef5442",
   "metadata": {},
   "source": [
    "### Column name: **Height**"
   ]
  },
  {
   "cell_type": "markdown",
   "id": "e4616f36",
   "metadata": {},
   "source": [
    "This is a continuous data. Hence, calculating central tendencies and dispersion shouldn't be a problem. Several rows have a value '-99' which is going to affect the below values. We will be handling these values during the data cleaning process."
   ]
  },
  {
   "cell_type": "markdown",
   "id": "4eea234f",
   "metadata": {},
   "source": [
    "**a.i. Mean :**"
   ]
  },
  {
   "cell_type": "code",
   "execution_count": 54,
   "id": "0af668ac",
   "metadata": {},
   "outputs": [
    {
     "name": "stdout",
     "output_type": "stream",
     "text": [
      "102.25408719346049\n"
     ]
    }
   ],
   "source": [
    "print(df['Height'].mean())"
   ]
  },
  {
   "cell_type": "markdown",
   "id": "7c738fa0",
   "metadata": {},
   "source": [
    "**a.ii. Median :**"
   ]
  },
  {
   "cell_type": "code",
   "execution_count": 55,
   "id": "e5e75139",
   "metadata": {},
   "outputs": [
    {
     "name": "stdout",
     "output_type": "stream",
     "text": [
      "175.0\n"
     ]
    }
   ],
   "source": [
    "print(df['Height'].median())"
   ]
  },
  {
   "cell_type": "markdown",
   "id": "3b95864a",
   "metadata": {},
   "source": [
    "**a.iii. Mode :**"
   ]
  },
  {
   "cell_type": "code",
   "execution_count": 109,
   "id": "5d6eabbd",
   "metadata": {},
   "outputs": [
    {
     "name": "stdout",
     "output_type": "stream",
     "text": [
      "0   -99.0\n",
      "dtype: float64\n"
     ]
    }
   ],
   "source": [
    "print(df[\"Height\"].mode())"
   ]
  },
  {
   "cell_type": "markdown",
   "id": "b043e36c",
   "metadata": {},
   "source": [
    "**b.i. Standard Deviation :**"
   ]
  },
  {
   "cell_type": "code",
   "execution_count": 57,
   "id": "14a5b9ec",
   "metadata": {},
   "outputs": [
    {
     "name": "stdout",
     "output_type": "stream",
     "text": [
      "139.62454255007276\n"
     ]
    }
   ],
   "source": [
    "print(df['Height'].std())"
   ]
  },
  {
   "cell_type": "markdown",
   "id": "35c916b3",
   "metadata": {},
   "source": [
    "**b.ii. Variance :**"
   ]
  },
  {
   "cell_type": "code",
   "execution_count": 58,
   "id": "66821373",
   "metadata": {},
   "outputs": [
    {
     "name": "stdout",
     "output_type": "stream",
     "text": [
      "19495.01288231708\n"
     ]
    }
   ],
   "source": [
    "print(df['Height'].var())"
   ]
  },
  {
   "cell_type": "markdown",
   "id": "f82b2465",
   "metadata": {},
   "source": [
    "**b.iii. IQR :**"
   ]
  },
  {
   "cell_type": "code",
   "execution_count": 59,
   "id": "8abbf264",
   "metadata": {},
   "outputs": [
    {
     "name": "stdout",
     "output_type": "stream",
     "text": [
      "284.0\n"
     ]
    }
   ],
   "source": [
    "q75, q25 = np.percentile(df['Height'], [75 ,25])\n",
    "iqr = q75 - q25\n",
    "print(iqr)"
   ]
  },
  {
   "cell_type": "markdown",
   "id": "7d19c9db",
   "metadata": {},
   "source": [
    "**b.iv. Skew :**"
   ]
  },
  {
   "cell_type": "code",
   "execution_count": 60,
   "id": "bdf8b94a",
   "metadata": {},
   "outputs": [
    {
     "name": "stdout",
     "output_type": "stream",
     "text": [
      "-0.02365759744219501\n"
     ]
    }
   ],
   "source": [
    "print(df['Height'].skew())"
   ]
  },
  {
   "cell_type": "markdown",
   "id": "0bf6a225",
   "metadata": {},
   "source": [
    "### Column name: **Publisher**"
   ]
  },
  {
   "cell_type": "markdown",
   "id": "3fe9f07a",
   "metadata": {},
   "source": [
    "Publisher, being categorical data, can be encoded into numerical values. Below are the unique values in the Publisher column. These can be encoded as 1,2,3...\n"
   ]
  },
  {
   "cell_type": "code",
   "execution_count": 61,
   "id": "d403d9bd",
   "metadata": {},
   "outputs": [
    {
     "data": {
      "text/plain": [
       "array(['Marvel Comics', 'Dark Horse Comics', 'DC Comics', 'NBC - Heroes',\n",
       "       'Wildstorm', 'Image Comics', nan, 'Icon Comics', 'SyFy',\n",
       "       'Hanna-Barbera', 'George Lucas', 'Team Epic TV', 'South Park',\n",
       "       'HarperCollins', 'ABC Studios', 'Universal Studios', 'Star Trek',\n",
       "       'IDW Publishing', 'Shueisha', 'Sony Pictures', 'J. K. Rowling',\n",
       "       'Titan Books', 'Rebellion', 'Microsoft', 'J. R. R. Tolkien'],\n",
       "      dtype=object)"
      ]
     },
     "execution_count": 61,
     "metadata": {},
     "output_type": "execute_result"
    }
   ],
   "source": [
    "(df['Publisher'].unique())"
   ]
  },
  {
   "cell_type": "code",
   "execution_count": 62,
   "id": "7cf7a7f1",
   "metadata": {},
   "outputs": [
    {
     "name": "stdout",
     "output_type": "stream",
     "text": [
      "0,1,2,3,4,5,6,7,8,9,10,11,12,13,14,15,16,17,18,19,20,21,22,23,24,\n"
     ]
    }
   ],
   "source": [
    "for i in range(25):\n",
    "    print(i, end=\",\")\n",
    "print()"
   ]
  },
  {
   "cell_type": "code",
   "execution_count": 63,
   "id": "4bf03a3a",
   "metadata": {},
   "outputs": [],
   "source": [
    "df['Publisher'] = df['Publisher'].replace(['Marvel Comics', 'Dark Horse Comics', 'DC Comics', 'NBC - Heroes',\n",
    "       'Wildstorm', 'Image Comics', 'nan', 'Icon Comics', 'SyFy',\n",
    "       'Hanna-Barbera', 'George Lucas', 'Team Epic TV', 'South Park',\n",
    "       'HarperCollins', 'ABC Studios', 'Universal Studios', 'Star Trek',\n",
    "       'IDW Publishing', 'Shueisha', 'Sony Pictures', 'J. K. Rowling',\n",
    "       'Titan Books', 'Rebellion', 'Microsoft', 'J. R. R. Tolkien'],[1,2,3,4,5,6,0,7,8,9,10,11,12,13,14,15,16,17,18,19,20,21,22,23,24])"
   ]
  },
  {
   "cell_type": "code",
   "execution_count": 64,
   "id": "f5a41baf",
   "metadata": {},
   "outputs": [],
   "source": [
    "df['Publisher'] = df['Publisher'].replace(np.nan, 0)"
   ]
  },
  {
   "cell_type": "code",
   "execution_count": 65,
   "id": "b351fe3e",
   "metadata": {},
   "outputs": [],
   "source": [
    "df['Publisher'] = df['Publisher'].astype('int')"
   ]
  },
  {
   "cell_type": "markdown",
   "id": "280a3291",
   "metadata": {},
   "source": [
    "**a.i. Mean :**"
   ]
  },
  {
   "cell_type": "code",
   "execution_count": 66,
   "id": "39fa6be1",
   "metadata": {},
   "outputs": [
    {
     "name": "stdout",
     "output_type": "stream",
     "text": [
      "2.8079019073569484\n"
     ]
    }
   ],
   "source": [
    "print(df['Publisher'].mean())"
   ]
  },
  {
   "cell_type": "markdown",
   "id": "e483aac4",
   "metadata": {},
   "source": [
    "**a.ii. Median :**"
   ]
  },
  {
   "cell_type": "code",
   "execution_count": 67,
   "id": "7c482e45",
   "metadata": {},
   "outputs": [
    {
     "name": "stdout",
     "output_type": "stream",
     "text": [
      "1.0\n"
     ]
    }
   ],
   "source": [
    "print(df['Publisher'].median())"
   ]
  },
  {
   "cell_type": "markdown",
   "id": "7993af9e",
   "metadata": {},
   "source": [
    "**a.iii. Mode :**"
   ]
  },
  {
   "cell_type": "code",
   "execution_count": 68,
   "id": "6184e2d2",
   "metadata": {},
   "outputs": [
    {
     "name": "stdout",
     "output_type": "stream",
     "text": [
      "0    1\n",
      "dtype: int64\n"
     ]
    }
   ],
   "source": [
    "print(df[\"Publisher\"].mode())"
   ]
  },
  {
   "cell_type": "markdown",
   "id": "934ce3f3",
   "metadata": {},
   "source": [
    "i.e. Mode is 'Marvel Comics'"
   ]
  },
  {
   "cell_type": "markdown",
   "id": "62304531",
   "metadata": {},
   "source": [
    "**b.i. Standard Deviation :**"
   ]
  },
  {
   "cell_type": "code",
   "execution_count": 69,
   "id": "e62f92b4",
   "metadata": {},
   "outputs": [
    {
     "name": "stdout",
     "output_type": "stream",
     "text": [
      "3.5810464697443325\n"
     ]
    }
   ],
   "source": [
    "print(df['Publisher'].std())"
   ]
  },
  {
   "cell_type": "markdown",
   "id": "96ffeb56",
   "metadata": {},
   "source": [
    "**b.ii. Variance :**"
   ]
  },
  {
   "cell_type": "code",
   "execution_count": 70,
   "id": "d7c7fdf9",
   "metadata": {},
   "outputs": [
    {
     "name": "stdout",
     "output_type": "stream",
     "text": [
      "12.823893818468346\n"
     ]
    }
   ],
   "source": [
    "print(df['Publisher'].var())"
   ]
  },
  {
   "cell_type": "markdown",
   "id": "b10a195c",
   "metadata": {},
   "source": [
    "**b.iii. IQR :**"
   ]
  },
  {
   "cell_type": "code",
   "execution_count": 71,
   "id": "9433a8fa",
   "metadata": {},
   "outputs": [
    {
     "name": "stdout",
     "output_type": "stream",
     "text": [
      "2.0\n"
     ]
    }
   ],
   "source": [
    "q75, q25 = np.percentile(df['Publisher'], [75 ,25])\n",
    "iqr = q75 - q25\n",
    "print(iqr)"
   ]
  },
  {
   "cell_type": "markdown",
   "id": "0d2a3336",
   "metadata": {},
   "source": [
    "**b.iv. Skew :**"
   ]
  },
  {
   "cell_type": "code",
   "execution_count": 72,
   "id": "d3b279ed",
   "metadata": {},
   "outputs": [
    {
     "name": "stdout",
     "output_type": "stream",
     "text": [
      "3.135892758441947\n"
     ]
    }
   ],
   "source": [
    "print(df['Publisher'].skew())"
   ]
  },
  {
   "cell_type": "markdown",
   "id": "8ab24538",
   "metadata": {},
   "source": [
    "### Column name: **Skin color**"
   ]
  },
  {
   "cell_type": "markdown",
   "id": "ff90824b",
   "metadata": {},
   "source": [
    "Skin color, being categorical data, can be encoded into numerical values. Below are the unique values in the Skin color column. These can be encoded as 1,2,3...\n"
   ]
  },
  {
   "cell_type": "code",
   "execution_count": 73,
   "id": "5a1086f0",
   "metadata": {},
   "outputs": [
    {
     "data": {
      "text/plain": [
       "array(['-', 'blue', 'red', 'black', 'grey', 'gold', 'green', 'white',\n",
       "       'pink', 'silver', 'red / black', 'yellow', 'purple',\n",
       "       'orange / white', 'gray', 'blue-white', 'orange'], dtype=object)"
      ]
     },
     "execution_count": 73,
     "metadata": {},
     "output_type": "execute_result"
    }
   ],
   "source": [
    "(df['Skin color'].unique())"
   ]
  },
  {
   "cell_type": "code",
   "execution_count": 74,
   "id": "7b8e1bd3",
   "metadata": {},
   "outputs": [
    {
     "name": "stdout",
     "output_type": "stream",
     "text": [
      "0,1,2,3,4,5,6,7,8,9,10,11,12,13,14,15,16,\n"
     ]
    }
   ],
   "source": [
    "for i in range(17):\n",
    "    print(i, end=\",\")\n",
    "print()"
   ]
  },
  {
   "cell_type": "code",
   "execution_count": 75,
   "id": "7bec72b5",
   "metadata": {},
   "outputs": [],
   "source": [
    "df['Skin color'] = df['Skin color'].replace(['-', 'blue', 'red', 'black', 'grey', 'gold', 'green', 'white',\n",
    "       'pink', 'silver', 'red / black', 'yellow', 'purple',\n",
    "       'orange / white', 'gray', 'blue-white', 'orange'],[0,1,2,3,4,5,6,7,8,9,10,11,12,13,14,15,16])"
   ]
  },
  {
   "cell_type": "code",
   "execution_count": 76,
   "id": "ea822398",
   "metadata": {},
   "outputs": [],
   "source": [
    "df['Skin color'] = df['Skin color'].astype('int')"
   ]
  },
  {
   "cell_type": "markdown",
   "id": "4e18493b",
   "metadata": {},
   "source": [
    "**a.i. Mean :**"
   ]
  },
  {
   "cell_type": "code",
   "execution_count": 77,
   "id": "8e9e6e33",
   "metadata": {},
   "outputs": [
    {
     "name": "stdout",
     "output_type": "stream",
     "text": [
      "0.5817438692098093\n"
     ]
    }
   ],
   "source": [
    "print(df['Skin color'].mean())"
   ]
  },
  {
   "cell_type": "markdown",
   "id": "5e25d963",
   "metadata": {},
   "source": [
    "**a.ii. Median :**"
   ]
  },
  {
   "cell_type": "code",
   "execution_count": 78,
   "id": "2b0fa8a7",
   "metadata": {},
   "outputs": [
    {
     "name": "stdout",
     "output_type": "stream",
     "text": [
      "0.0\n"
     ]
    }
   ],
   "source": [
    "print(df['Skin color'].median())"
   ]
  },
  {
   "cell_type": "markdown",
   "id": "b2154a19",
   "metadata": {},
   "source": [
    "**a.iii. Mode :**"
   ]
  },
  {
   "cell_type": "code",
   "execution_count": 79,
   "id": "38263248",
   "metadata": {},
   "outputs": [
    {
     "name": "stdout",
     "output_type": "stream",
     "text": [
      "0    0\n",
      "dtype: int64\n"
     ]
    }
   ],
   "source": [
    "print(df[\"Skin color\"].mode())"
   ]
  },
  {
   "cell_type": "markdown",
   "id": "17beef7b",
   "metadata": {},
   "source": [
    "i.e. Mode is '-'"
   ]
  },
  {
   "cell_type": "markdown",
   "id": "7710bea4",
   "metadata": {},
   "source": [
    "**b.i. Standard Deviation :**"
   ]
  },
  {
   "cell_type": "code",
   "execution_count": 80,
   "id": "2ddb0943",
   "metadata": {},
   "outputs": [
    {
     "name": "stdout",
     "output_type": "stream",
     "text": [
      "2.0935147596577903\n"
     ]
    }
   ],
   "source": [
    "print(df['Skin color'].std())"
   ]
  },
  {
   "cell_type": "markdown",
   "id": "4b3737ad",
   "metadata": {},
   "source": [
    "**b.ii. Variance :**"
   ]
  },
  {
   "cell_type": "code",
   "execution_count": 81,
   "id": "5ac9aff0",
   "metadata": {},
   "outputs": [
    {
     "name": "stdout",
     "output_type": "stream",
     "text": [
      "4.382804048905016\n"
     ]
    }
   ],
   "source": [
    "print(df['Skin color'].var())"
   ]
  },
  {
   "cell_type": "markdown",
   "id": "21a24aab",
   "metadata": {},
   "source": [
    "**b.iii. IQR :**"
   ]
  },
  {
   "cell_type": "code",
   "execution_count": 82,
   "id": "5e35873e",
   "metadata": {},
   "outputs": [
    {
     "name": "stdout",
     "output_type": "stream",
     "text": [
      "0.0\n"
     ]
    }
   ],
   "source": [
    "q75, q25 = np.percentile(df['Skin color'], [75 ,25])\n",
    "iqr = q75 - q25\n",
    "print(iqr)"
   ]
  },
  {
   "cell_type": "markdown",
   "id": "c5ed01e1",
   "metadata": {},
   "source": [
    "**b.iv. Skew :**"
   ]
  },
  {
   "cell_type": "code",
   "execution_count": 83,
   "id": "dea10366",
   "metadata": {},
   "outputs": [
    {
     "name": "stdout",
     "output_type": "stream",
     "text": [
      "4.16200426766068\n"
     ]
    }
   ],
   "source": [
    "print(df['Skin color'].skew())"
   ]
  },
  {
   "cell_type": "markdown",
   "id": "fc0bb623",
   "metadata": {},
   "source": [
    "### Column name: **Alignment**"
   ]
  },
  {
   "cell_type": "code",
   "execution_count": 84,
   "id": "2c19d843",
   "metadata": {},
   "outputs": [
    {
     "data": {
      "text/plain": [
       "array(['good', 'bad', '-', 'neutral'], dtype=object)"
      ]
     },
     "execution_count": 84,
     "metadata": {},
     "output_type": "execute_result"
    }
   ],
   "source": [
    "df['Alignment'].unique()"
   ]
  },
  {
   "cell_type": "code",
   "execution_count": 85,
   "id": "bd74cdb5",
   "metadata": {},
   "outputs": [],
   "source": [
    "df['Alignment'] = df['Alignment'].replace('good', 1)"
   ]
  },
  {
   "cell_type": "code",
   "execution_count": 86,
   "id": "b7a94d4b",
   "metadata": {},
   "outputs": [],
   "source": [
    "df['Alignment'] = df['Alignment'].replace('bad', 2)\n",
    "df['Alignment'] = df['Alignment'].replace('neutral', 3)"
   ]
  },
  {
   "cell_type": "code",
   "execution_count": 87,
   "id": "9c3d544a",
   "metadata": {},
   "outputs": [],
   "source": [
    "df['Alignment'] = df['Alignment'].replace('-',0)"
   ]
  },
  {
   "cell_type": "code",
   "execution_count": 88,
   "id": "75454e1f",
   "metadata": {},
   "outputs": [],
   "source": [
    "df['Alignment'] = df['Alignment'].astype('int')"
   ]
  },
  {
   "cell_type": "markdown",
   "id": "c9779f2f",
   "metadata": {},
   "source": [
    "**a.i. Mean :**"
   ]
  },
  {
   "cell_type": "code",
   "execution_count": 89,
   "id": "1db77394",
   "metadata": {},
   "outputs": [
    {
     "name": "stdout",
     "output_type": "stream",
     "text": [
      "1.337874659400545\n"
     ]
    }
   ],
   "source": [
    "print(df['Alignment'].mean())"
   ]
  },
  {
   "cell_type": "markdown",
   "id": "553d1b28",
   "metadata": {},
   "source": [
    "**a.ii. Median :**"
   ]
  },
  {
   "cell_type": "code",
   "execution_count": 90,
   "id": "7444c18c",
   "metadata": {},
   "outputs": [
    {
     "name": "stdout",
     "output_type": "stream",
     "text": [
      "1.0\n"
     ]
    }
   ],
   "source": [
    "print(df['Alignment'].median())"
   ]
  },
  {
   "cell_type": "markdown",
   "id": "415f9f33",
   "metadata": {},
   "source": [
    "**a.iii. Mode :**"
   ]
  },
  {
   "cell_type": "code",
   "execution_count": 91,
   "id": "3c3874cd",
   "metadata": {},
   "outputs": [
    {
     "name": "stdout",
     "output_type": "stream",
     "text": [
      "0    1\n",
      "dtype: int64\n"
     ]
    }
   ],
   "source": [
    "print(df[\"Alignment\"].mode())"
   ]
  },
  {
   "cell_type": "markdown",
   "id": "4beacf0d",
   "metadata": {},
   "source": [
    "i.e. Mode is 'good'"
   ]
  },
  {
   "cell_type": "markdown",
   "id": "2f533485",
   "metadata": {},
   "source": [
    "**b.i. Standard Deviation :**"
   ]
  },
  {
   "cell_type": "code",
   "execution_count": 92,
   "id": "c8b8008d",
   "metadata": {},
   "outputs": [
    {
     "name": "stdout",
     "output_type": "stream",
     "text": [
      "0.555521809524758\n"
     ]
    }
   ],
   "source": [
    "print(df['Alignment'].std())"
   ]
  },
  {
   "cell_type": "markdown",
   "id": "00f5a3f9",
   "metadata": {},
   "source": [
    "**b.ii. Variance :**"
   ]
  },
  {
   "cell_type": "code",
   "execution_count": 93,
   "id": "542b6047",
   "metadata": {},
   "outputs": [
    {
     "name": "stdout",
     "output_type": "stream",
     "text": [
      "0.3086044808576616\n"
     ]
    }
   ],
   "source": [
    "print(df['Alignment'].var())"
   ]
  },
  {
   "cell_type": "markdown",
   "id": "2f30a238",
   "metadata": {},
   "source": [
    "**b.iii. IQR :**"
   ]
  },
  {
   "cell_type": "code",
   "execution_count": 94,
   "id": "efa14041",
   "metadata": {},
   "outputs": [
    {
     "name": "stdout",
     "output_type": "stream",
     "text": [
      "1.0\n"
     ]
    }
   ],
   "source": [
    "q75, q25 = np.percentile(df['Alignment'], [75 ,25])\n",
    "iqr = q75 - q25\n",
    "print(iqr)"
   ]
  },
  {
   "cell_type": "markdown",
   "id": "23eeb612",
   "metadata": {},
   "source": [
    "**b.iv. Skew :**"
   ]
  },
  {
   "cell_type": "code",
   "execution_count": 95,
   "id": "bb123339",
   "metadata": {},
   "outputs": [
    {
     "name": "stdout",
     "output_type": "stream",
     "text": [
      "1.0724462861527282\n"
     ]
    }
   ],
   "source": [
    "print(df['Alignment'].skew())"
   ]
  },
  {
   "cell_type": "markdown",
   "id": "9029bdd6",
   "metadata": {},
   "source": [
    "### Column name: **Weight**"
   ]
  },
  {
   "cell_type": "markdown",
   "id": "d62c67b1",
   "metadata": {},
   "source": [
    "This is a continuous data. Hence, calculating central tendencies and dispersion shouldn't be a problem. Several rows have a value '-99' which is going to affect the below values. We will be handling these values during the data cleaning process."
   ]
  },
  {
   "cell_type": "markdown",
   "id": "e224319c",
   "metadata": {},
   "source": [
    "**a.i. Mean :**"
   ]
  },
  {
   "cell_type": "code",
   "execution_count": 96,
   "id": "ada4db81",
   "metadata": {},
   "outputs": [
    {
     "name": "stdout",
     "output_type": "stream",
     "text": [
      "43.8551912568306\n"
     ]
    }
   ],
   "source": [
    "print(df['Weight'].mean())"
   ]
  },
  {
   "cell_type": "markdown",
   "id": "f509c3a4",
   "metadata": {},
   "source": [
    "**a.ii. Median :**"
   ]
  },
  {
   "cell_type": "code",
   "execution_count": 97,
   "id": "5aeef033",
   "metadata": {},
   "outputs": [
    {
     "name": "stdout",
     "output_type": "stream",
     "text": [
      "62.0\n"
     ]
    }
   ],
   "source": [
    "print(df['Weight'].median())"
   ]
  },
  {
   "cell_type": "markdown",
   "id": "8d8abed5",
   "metadata": {},
   "source": [
    "**a.iii. Mode :**"
   ]
  },
  {
   "cell_type": "code",
   "execution_count": 98,
   "id": "192026ed",
   "metadata": {},
   "outputs": [
    {
     "name": "stdout",
     "output_type": "stream",
     "text": [
      "0   -99.0\n",
      "dtype: float64\n"
     ]
    }
   ],
   "source": [
    "print(df[\"Weight\"].mode())"
   ]
  },
  {
   "cell_type": "markdown",
   "id": "a2d231dd",
   "metadata": {},
   "source": [
    "**b.i. Standard Deviation :**"
   ]
  },
  {
   "cell_type": "code",
   "execution_count": 99,
   "id": "0b114197",
   "metadata": {},
   "outputs": [
    {
     "name": "stdout",
     "output_type": "stream",
     "text": [
      "130.82373271995178\n"
     ]
    }
   ],
   "source": [
    "print(df['Weight'].std())"
   ]
  },
  {
   "cell_type": "markdown",
   "id": "075e032c",
   "metadata": {},
   "source": [
    "**b.ii. Variance :**"
   ]
  },
  {
   "cell_type": "code",
   "execution_count": 100,
   "id": "115439f2",
   "metadata": {},
   "outputs": [
    {
     "name": "stdout",
     "output_type": "stream",
     "text": [
      "17114.849042781385\n"
     ]
    }
   ],
   "source": [
    "print(df['Weight'].var())"
   ]
  },
  {
   "cell_type": "markdown",
   "id": "f19a40b1",
   "metadata": {},
   "source": [
    "**b.iii. IQR :**"
   ]
  },
  {
   "cell_type": "code",
   "execution_count": 101,
   "id": "1d82d81a",
   "metadata": {},
   "outputs": [
    {
     "name": "stdout",
     "output_type": "stream",
     "text": [
      "nan\n"
     ]
    }
   ],
   "source": [
    "q75, q25 = np.percentile(df['Weight'], [75 ,25])\n",
    "iqr = q75 - q25\n",
    "print(iqr)"
   ]
  },
  {
   "cell_type": "markdown",
   "id": "155fd3f1",
   "metadata": {},
   "source": [
    "**b.iv. Skew :**"
   ]
  },
  {
   "cell_type": "code",
   "execution_count": 102,
   "id": "1c1fee2c",
   "metadata": {},
   "outputs": [
    {
     "name": "stdout",
     "output_type": "stream",
     "text": [
      "1.674863003138279\n"
     ]
    }
   ],
   "source": [
    "print(df['Weight'].skew())"
   ]
  },
  {
   "cell_type": "markdown",
   "id": "1d22790d",
   "metadata": {},
   "source": [
    "## **4. Cleaning dataset**"
   ]
  },
  {
   "cell_type": "markdown",
   "id": "a1c17299",
   "metadata": {},
   "source": [
    "A part of data cleaning has been done earlier in the previous section to calculate central tendencies and dispersion.\n",
    "    ---> Categorical data were numerically encoded while '-' values were encoded as 0.\n",
    "    \n",
    "There are so many rows which have blank/invalid values in certain columns. However, removing these rows will result in loosing a major chunk of our data.\n",
    "Therefore, the method followed here is to find useless/junk rows with many blank or invalid values.\n",
    "* The code snippet below looks for rows which have more than two columns with blank or invalid values. These rows  are then removed from the data. "
   ]
  },
  {
   "cell_type": "code",
   "execution_count": 103,
   "id": "a671875c",
   "metadata": {},
   "outputs": [],
   "source": [
    "df_cpy = df"
   ]
  },
  {
   "cell_type": "code",
   "execution_count": 104,
   "id": "2de68495",
   "metadata": {},
   "outputs": [],
   "source": [
    "df_cpy = df_cpy.fillna(0)\n",
    "for ind, row in df_cpy.iterrows():\n",
    "    count = 0\n",
    "    for column in df_cpy:\n",
    "        if column != 'ID':\n",
    "            if row[column] == 0:\n",
    "                count = count + 1\n",
    "            elif row[column] == -99:\n",
    "                count = count + 1\n",
    "    if count >= 2:\n",
    "        df_cpy.drop(ind,axis=0,inplace=True)\n",
    "#         print('deleting ',ind)"
   ]
  },
  {
   "cell_type": "markdown",
   "id": "83080e94",
   "metadata": {},
   "source": [
    "1. Meanwhile, in the other rows, these blank/invalid values are handled as follows:\n",
    "    * Categorical data i.e. Gender, Eye color, Race, Hair color, Publisher, Skin color, Alignment : Blank/invalid values are replaced with the mode of the column, since logically, the row has more probability of having the value of mode than any other value in the column. In case the mode itself is 0, we replace it with the next most frequent value.\n",
    "    * Continuous data i.e. Height and Weight : Blank/invalid values are replaced with the mean of the column, since this will make our assumption impact the distribution of data neither positively nor negatively.\n",
    "    \n",
    "    \n",
    "2. Handling outliers: Outliers usually end up skewing the data, thus affecting the central tendencies and dispersion values. They also affect classification, prediction or any kind of inference. For example, there are few records which have a height around 800-1000 which are far from the other records. The idea is to replace these outliers with the upper and low quartiles respectively. Only continous data like height and weight are prone to outliers. Therefore, we will implement outlier removal only for those columns."
   ]
  },
  {
   "cell_type": "markdown",
   "id": "a4c49f43",
   "metadata": {},
   "source": [
    "**Gender:**"
   ]
  },
  {
   "cell_type": "code",
   "execution_count": 113,
   "id": "4b9d3164",
   "metadata": {},
   "outputs": [],
   "source": [
    "# Confirming that the mode is not 0\n",
    "for (columnName, columnData) in df_cpy.iteritems():\n",
    "    if columnName != 'ID' and columnName != 'name':\n",
    "        init_mode = df_cpy[columnName].value_counts().idxmax()\n",
    "        if init_mode == 0:  ## Checking whether the mode itself is 0\n",
    "            df_temp = df_cpy[df_cpy[columnName] != 0]  ## If mode is 0, remove the zeroes\n",
    "            df_cpy[columnName] = df_cpy[columnName].replace([0], df_temp[columnName].value_counts().idxmax()) ## Replace zeroes in the original df with the new mode\n",
    "        else:\n",
    "            df_cpy[columnName] = df_cpy[columnName].replace([0], df_cpy[columnName].value_counts().idxmax())"
   ]
  },
  {
   "cell_type": "code",
   "execution_count": null,
   "id": "2f4b4878",
   "metadata": {},
   "outputs": [],
   "source": [
    "df_cpy['Gender'] = df_cpy['Gender'].replace([0], df_cpy['Gender'].mode())"
   ]
  },
  {
   "cell_type": "markdown",
   "id": "8c696785",
   "metadata": {},
   "source": [
    "**Eye color:**"
   ]
  },
  {
   "cell_type": "code",
   "execution_count": null,
   "id": "787b93bd",
   "metadata": {},
   "outputs": [],
   "source": [
    "df_cpy['Eye color'].value_counts()"
   ]
  },
  {
   "cell_type": "code",
   "execution_count": null,
   "id": "dbf29195",
   "metadata": {},
   "outputs": [],
   "source": [
    "df_cpy['Eye color'] = df_cpy['Eye color'].replace([0], df_cpy['Eye color'].mode())"
   ]
  },
  {
   "cell_type": "markdown",
   "id": "a458659b",
   "metadata": {},
   "source": [
    "**Hair color:**"
   ]
  },
  {
   "cell_type": "code",
   "execution_count": null,
   "id": "aaf7610a",
   "metadata": {},
   "outputs": [],
   "source": [
    "df_cpy['Hair color'].value_counts()"
   ]
  },
  {
   "cell_type": "code",
   "execution_count": null,
   "id": "16ebf435",
   "metadata": {},
   "outputs": [],
   "source": [
    "df_cpy['Hair color'] = df_cpy['Hair color'].replace([0], df_cpy['Hair color'].mode())"
   ]
  },
  {
   "cell_type": "markdown",
   "id": "44453d40",
   "metadata": {},
   "source": [
    "**Race:**"
   ]
  },
  {
   "cell_type": "code",
   "execution_count": null,
   "id": "863c947a",
   "metadata": {},
   "outputs": [],
   "source": [
    "df_cpy['Race'].value_counts()"
   ]
  },
  {
   "cell_type": "code",
   "execution_count": null,
   "id": "cce7e762",
   "metadata": {},
   "outputs": [],
   "source": [
    "df_cpy['Race'] = df_cpy['Race'].replace([0], df_cpy['Race'].mode())"
   ]
  },
  {
   "cell_type": "markdown",
   "id": "ae44343d",
   "metadata": {},
   "source": [
    "**Publisher:**"
   ]
  },
  {
   "cell_type": "code",
   "execution_count": null,
   "id": "abf49669",
   "metadata": {},
   "outputs": [],
   "source": [
    "df_cpy['Publisher'].value_counts()"
   ]
  },
  {
   "cell_type": "code",
   "execution_count": null,
   "id": "0e898f48",
   "metadata": {},
   "outputs": [],
   "source": [
    "df_cpy['Publisher'] = df_cpy['Publisher'].replace([0], df_cpy['Publisher'].mode())"
   ]
  },
  {
   "cell_type": "markdown",
   "id": "a3432312",
   "metadata": {},
   "source": [
    "**Skin color:**"
   ]
  },
  {
   "cell_type": "code",
   "execution_count": null,
   "id": "74155136",
   "metadata": {},
   "outputs": [],
   "source": [
    "df_cpy['Skin color'].value_counts()"
   ]
  },
  {
   "cell_type": "code",
   "execution_count": null,
   "id": "021da95d",
   "metadata": {},
   "outputs": [],
   "source": [
    "df_cpy.shape"
   ]
  },
  {
   "cell_type": "markdown",
   "id": "0523bfcd",
   "metadata": {},
   "source": [
    "Here, the mode itself is 0 i.e. blank or invalid values. As we can see, 0 occurs in more than 70% of the rows. Hence, it makes sense to remove this column instead of assuming a value which might skew the dataset or misrepresent the data."
   ]
  },
  {
   "cell_type": "code",
   "execution_count": null,
   "id": "bb900037",
   "metadata": {},
   "outputs": [],
   "source": [
    "df_cpy = df_cpy.drop('Skin color', axis=1)"
   ]
  },
  {
   "cell_type": "markdown",
   "id": "8616fc39",
   "metadata": {},
   "source": [
    "**Alignment:**"
   ]
  },
  {
   "cell_type": "code",
   "execution_count": null,
   "id": "077d22bc",
   "metadata": {},
   "outputs": [],
   "source": [
    "df_cpy['Alignment'].value_counts()"
   ]
  },
  {
   "cell_type": "code",
   "execution_count": null,
   "id": "a679b6db",
   "metadata": {},
   "outputs": [],
   "source": [
    "df_cpy['Alignment'] = df_cpy['Alignment'].replace([0], df_cpy['Alignment'].mode())"
   ]
  },
  {
   "cell_type": "markdown",
   "id": "eb791af8",
   "metadata": {},
   "source": [
    "**Height:**"
   ]
  },
  {
   "cell_type": "code",
   "execution_count": null,
   "id": "5f7880e1",
   "metadata": {},
   "outputs": [],
   "source": [
    "df_cpy['Height'] = df_cpy['Height'].replace([0], df_cpy['Height'].mean())"
   ]
  },
  {
   "cell_type": "code",
   "execution_count": null,
   "id": "4aed8d48",
   "metadata": {},
   "outputs": [],
   "source": [
    "# Outlier handling\n",
    "Q1 = df_cpy['Height'].quantile(0.25)\n",
    "Q3 = df_cpy['Height'].quantile(0.75)\n",
    "IQR = Q3 - Q1\n",
    "lower_bound = Q1 - 1.5 * IQR\n",
    "upper_bound = Q3 + 1.5 * IQR\n",
    "\n",
    "for index, row in df_cpy.iterrows():\n",
    "    if row['Height'] < lower_bound: \n",
    "        df_cpy['Height'] = df_cpy['Height'].replace(row['Height'], df_cpy['Height'].median())\n",
    "    elif row['Height'] > upper_bound: \n",
    "        df_cpy['Height'] = df_cpy['Height'].replace(row['Height'], df_cpy['Height'].median())"
   ]
  },
  {
   "cell_type": "markdown",
   "id": "50ee0ccc",
   "metadata": {},
   "source": [
    "**Weight:**"
   ]
  },
  {
   "cell_type": "code",
   "execution_count": null,
   "id": "644f43f6",
   "metadata": {},
   "outputs": [],
   "source": [
    "df_cpy['Weight'] = df_cpy['Weight'].replace([0], df_cpy['Weight'].mean())"
   ]
  },
  {
   "cell_type": "code",
   "execution_count": null,
   "id": "41aecfb6",
   "metadata": {},
   "outputs": [],
   "source": [
    "# Outlier handling\n",
    "Q1 = df_cpy['Weight'].quantile(0.25)\n",
    "Q3 = df_cpy['Weight'].quantile(0.75)\n",
    "IQR = Q3 - Q1\n",
    "lower_bound = Q1 - 1.5 * IQR\n",
    "upper_bound = Q3 + 1.5 * IQR\n",
    "\n",
    "for index, row in df_cpy.iterrows():\n",
    "    if row['Weight'] < lower_bound: \n",
    "        df_cpy['Weight'] = df_cpy['Weight'].replace(row['Weight'], df_cpy['Weight'].median())\n",
    "    elif row['Weight'] > upper_bound: \n",
    "        df_cpy['Weight'] = df_cpy['Weight'].replace(row['Weight'], df_cpy['Weight'].median())"
   ]
  },
  {
   "cell_type": "markdown",
   "id": "f6db1f2f",
   "metadata": {},
   "source": [
    "## 5. Scatter plot"
   ]
  },
  {
   "cell_type": "code",
   "execution_count": null,
   "id": "1bef5713",
   "metadata": {},
   "outputs": [],
   "source": [
    "import matplotlib.pyplot as plt"
   ]
  },
  {
   "cell_type": "markdown",
   "id": "d2075cc5",
   "metadata": {},
   "source": [
    "**For each column, the first plot represents the scatter plot as asked in the question and the second plot is an alternative.**"
   ]
  },
  {
   "cell_type": "markdown",
   "id": "251d3778",
   "metadata": {},
   "source": [
    "### Gender"
   ]
  },
  {
   "cell_type": "code",
   "execution_count": null,
   "id": "9e810f86",
   "metadata": {},
   "outputs": [],
   "source": [
    "fig, (ax1, ax2) = plt.subplots(1, 2, figsize=(10,5))\n",
    "ax1.title.set_text('Gender vs ID') \n",
    "ax1.scatter(df_cpy['ID'], df_cpy['Gender'], c =\"blue\")\n",
    "plt.ylabel('ID')\n",
    "\n",
    "ax2.title.set_text('Gender vs Frequency') \n",
    "ax2.bar(df_cpy['Gender'].value_counts().index, \n",
    "       df_cpy['Gender'].value_counts().values,\n",
    "       color = ['darkblue', 'darkorange'])\n",
    "ax2.set_xticks(range(0, 3))\n",
    "ax2.set_xticklabels(['0','1 - Male','2 - Female'], fontsize = 14);\n",
    "plt.show()"
   ]
  },
  {
   "cell_type": "markdown",
   "id": "e9627607",
   "metadata": {},
   "source": [
    "**Learning from the first plot :** Shows that 2 i.e. Females are less in number than 1 i.e. males. Both males and females are evenly distributed in the data.\n",
    "**Alternative plot :** The first plot does not give us any quantitave understanding of gender with respect to ID since ID is just an index. The alternative plot helps us compare the frequency of both the genders.\n",
    "**Learning from the alternative plot :** Apparently there are more males in the data than females."
   ]
  },
  {
   "cell_type": "code",
   "execution_count": null,
   "id": "2683970c",
   "metadata": {},
   "outputs": [],
   "source": []
  },
  {
   "cell_type": "markdown",
   "id": "c65a0fce",
   "metadata": {},
   "source": [
    "### Eye color"
   ]
  },
  {
   "cell_type": "code",
   "execution_count": null,
   "id": "dd633144",
   "metadata": {},
   "outputs": [],
   "source": [
    "fig, (ax1, ax2) = plt.subplots(1, 2, figsize=(10,5))\n",
    "ax1.title.set_text('Eye color vs ID') \n",
    "ax1.scatter(df_cpy['ID'], df_cpy['Eye color'], c =\"blue\")\n",
    "plt.ylabel('ID')\n",
    "\n",
    "ax2.title.set_text('Eye color vs Frequency') \n",
    "ax2.bar(df_cpy['Eye color'].value_counts().index, \n",
    "       df_cpy['Eye color'].value_counts().values,\n",
    "       color = ['darkblue', 'darkorange'])\n",
    "# ax2.set_xticks(range(0, 3))\n",
    "# ax2.set_xticklabels(['0','1 - Male','2 - Female'], fontsize = 14);\n",
    "plt.show()"
   ]
  },
  {
   "cell_type": "markdown",
   "id": "b6ed2754",
   "metadata": {},
   "source": [
    "**Learning from the first plot :** Shows that the eye colors are not evenly distributed. The later part of the data seems to be more diverse than the initial part. The difference between the frequency of mode and the least occuring value is way too high.\n",
    "**Alternative plot :** The first plot does not give us any quantitave understanding of eye color with respect to ID since ID is just an index. The alternative plot helps us compare the frequency of the eye colors.\n",
    "**Learning from the alternative plot :** 2 i.e. Blue seems to be the most common eye color."
   ]
  },
  {
   "cell_type": "markdown",
   "id": "9132f7c2",
   "metadata": {},
   "source": [
    "### Race"
   ]
  },
  {
   "cell_type": "code",
   "execution_count": null,
   "id": "5d1395bc",
   "metadata": {},
   "outputs": [],
   "source": [
    "fig, (ax1, ax2) = plt.subplots(1, 2, figsize=(10,5))\n",
    "ax1.title.set_text('Race vs ID') \n",
    "ax1.scatter(df_cpy['ID'], df_cpy['Race'], c =\"blue\")\n",
    "plt.ylabel('ID')\n",
    "\n",
    "ax2.title.set_text('Race vs Frequency') \n",
    "ax2.bar(df_cpy['Race'].value_counts().index, \n",
    "       df_cpy['Race'].value_counts().values,\n",
    "       color = ['darkblue', 'darkorange'])\n",
    "# ax2.set_xticks(range(0, 3))\n",
    "# ax2.set_xticklabels(['0','1 - Male','2 - Female'], fontsize = 14);\n",
    "plt.show()"
   ]
  },
  {
   "cell_type": "markdown",
   "id": "fed2ad2b",
   "metadata": {},
   "source": [
    "**Learning from the first plot :** Shows that Race is not evenly distributed. The later part of the data seems to be more diverse than the initial part. The difference between the frequency of mode and the least occuring value is way too high. The two dominant races are Human and Mutant.\n",
    "**Alternative plot :** The first plot does not give us any quantitave understanding of race with respect to ID since ID is just an index. The alternative plot helps us compare the frequency of the race.\n",
    "**Learning from the alternative plot :** 1 i.e. Human seems to be the most common race.\n",
    "\n",
    "**However in this case, the scatter plot makes more sense since even the least occuring race is able to be visualized.**"
   ]
  },
  {
   "cell_type": "markdown",
   "id": "d6ab10f8",
   "metadata": {},
   "source": [
    "### Hair color"
   ]
  },
  {
   "cell_type": "code",
   "execution_count": null,
   "id": "429ecc0e",
   "metadata": {},
   "outputs": [],
   "source": [
    "fig, (ax1, ax2) = plt.subplots(1, 2, figsize=(10,5))\n",
    "ax1.title.set_text('Hair color vs ID') \n",
    "ax1.scatter(df_cpy['ID'], df_cpy['Hair color'], c =\"blue\")\n",
    "plt.ylabel('ID')\n",
    "\n",
    "ax2.title.set_text('Hair color vs Frequency') \n",
    "ax2.bar(df_cpy['Hair color'].value_counts().index, \n",
    "       df_cpy['Hair color'].value_counts().values,\n",
    "       color = ['darkblue', 'darkorange'])\n",
    "# ax2.set_xticks(range(0, 3))\n",
    "# ax2.set_xticklabels(['0','1 - Male','2 - Female'], fontsize = 14);\n",
    "plt.show()"
   ]
  },
  {
   "cell_type": "markdown",
   "id": "388e87dd",
   "metadata": {},
   "source": [
    "**Learning from the first plot :** Shows that Hair color is evenly distributed barring few hair colors like Indigo, Red/White and Black/Blue. The least occuring hair colors can be seen more easily. The most occuring colors are more evenly distributed than the less occuring ones.\n",
    "**Alternative plot :** The alternative plot helps us compare the frequency of the hair colors.\n",
    "**Learning from the alternative plot :** 2 i.e. Black seems to be the most common race.\n",
    "\n",
    "**In this case too, the scatter plot makes more sense since even the least occuring race is able to be visualized.**"
   ]
  },
  {
   "cell_type": "markdown",
   "id": "0756b697",
   "metadata": {},
   "source": [
    "### Publisher"
   ]
  },
  {
   "cell_type": "code",
   "execution_count": null,
   "id": "dd62800c",
   "metadata": {},
   "outputs": [],
   "source": [
    "fig, (ax1, ax2) = plt.subplots(1, 2, figsize=(10,5))\n",
    "ax1.title.set_text('Publisher vs ID') \n",
    "ax1.scatter(df_cpy['ID'], df_cpy['Publisher'], c =\"blue\")\n",
    "plt.ylabel('ID')\n",
    "\n",
    "ax2.title.set_text('Publisher vs Frequency') \n",
    "ax2.bar(df_cpy['Publisher'].value_counts().index, \n",
    "       df_cpy['Publisher'].value_counts().values,\n",
    "       color = ['darkblue', 'darkorange'])\n",
    "# ax2.set_xticks(range(0, 3))\n",
    "# ax2.set_xticklabels(['0','1 - Male','2 - Female'], fontsize = 14);\n",
    "plt.show()"
   ]
  },
  {
   "cell_type": "markdown",
   "id": "8f00e786",
   "metadata": {},
   "source": [
    "**Learning from the first plot :** Shows how the distribution of Publishers have been affected due to data cleaning. Records having values SouthPark, HaperCollins have been completely removed as part of data cleaning as thy might have had more than 2 invalid values.\n",
    "**Alternative plot :** The alternative plot helps us compare the frequency of the hair colors.\n",
    "**Learning from the alternative plot :** How only 3-4 values form the major part of the data\n",
    "\n",
    "**In this case too, both the plots are equally good in representing the nature of the data**"
   ]
  },
  {
   "cell_type": "markdown",
   "id": "cb9584db",
   "metadata": {},
   "source": [
    "### Alignment"
   ]
  },
  {
   "cell_type": "code",
   "execution_count": null,
   "id": "c0da5018",
   "metadata": {},
   "outputs": [],
   "source": [
    "fig, (ax1, ax2) = plt.subplots(1, 2, figsize=(10,5))\n",
    "ax1.title.set_text('Alignment vs ID') \n",
    "ax1.scatter(df_cpy['ID'], df_cpy['Alignment'], c =\"blue\")\n",
    "plt.ylabel('ID')\n",
    "\n",
    "ax2.title.set_text('Alignment vs Frequency') \n",
    "ax2.bar(df_cpy['Alignment'].value_counts().index, \n",
    "       df_cpy['Alignment'].value_counts().values,\n",
    "       color = ['darkblue', 'darkorange'])\n",
    "# ax2.set_xticks(range(0, 3))\n",
    "# ax2.set_xticklabels(['0','1 - Male','2 - Female'], fontsize = 14);\n",
    "plt.show()"
   ]
  },
  {
   "cell_type": "markdown",
   "id": "9025b97b",
   "metadata": {},
   "source": [
    "**Learning from the first plot :** 3 i.e. neutral seems to be very low compared to good and bad.\n",
    "**Alternative plot :** The alternative plot helps us compare the frequency of the hair colors.\n",
    "**Learning from the alternative plot :** How only 3-4 values form the major part of the data\n",
    "\n",
    "**In this case, the scatter plot doesn't help much in understanding the difference between the distribution of 'good' and 'bad' i.e. 1 and 2. However, the alternative plot acheives this.**"
   ]
  },
  {
   "cell_type": "markdown",
   "id": "f701a2a4",
   "metadata": {},
   "source": [
    "### Height"
   ]
  },
  {
   "cell_type": "code",
   "execution_count": null,
   "id": "e845525f",
   "metadata": {},
   "outputs": [],
   "source": [
    "fig, (ax1, ax2) = plt.subplots(1, 2, figsize=(10,5))\n",
    "ax1.title.set_text('Height vs ID') \n",
    "ax1.scatter(df_cpy['ID'], df_cpy['Height'], c =\"blue\")\n",
    "plt.ylabel('Height')\n",
    "plt.xlabel('ID')\n",
    "\n",
    "# ax2.title.set_text('Height vs Frequency') \n",
    "# ax2.bar(df_cpy['Height'].value_counts().index, \n",
    "#        df_cpy['Height'].value_counts().values,\n",
    "#        color = ['darkblue', 'darkorange'])\n",
    "\n",
    "plt.plot(df_cpy['ID'], df_cpy['Height'])\n",
    "plt.title('Height Vs ID')\n",
    "plt.xlabel('ID')\n",
    "plt.ylabel('Height')\n",
    "plt.show()\n",
    "\n",
    "# ax2.set_xticks(range(0, 3))\n",
    "# ax2.set_xticklabels(['0','1 - Male','2 - Female'], fontsize = 14);\n",
    "plt.show()"
   ]
  },
  {
   "cell_type": "markdown",
   "id": "b14525c1",
   "metadata": {},
   "source": [
    "**Learning from the first plot :** Shows that the heights are mostly concentrated around 180-190. Records in the bottom of the data tend to be more taller than the ones on the top. We can also see the values being capped at the upper and lower bounds which we did during outlier removal.\n",
    "**Alternative plot :** The alternative plot helps us infer the trend in the height as we go down the records.While scatter plots doesn't perform well in showing the trends in the densely populated areas like height:200, the alternative plot achieves this.\n",
    "**Learning from the alternative plot :** The values are more skewed as we go further down our data."
   ]
  },
  {
   "cell_type": "markdown",
   "id": "f55ed59c",
   "metadata": {},
   "source": [
    "### Weight"
   ]
  },
  {
   "cell_type": "code",
   "execution_count": null,
   "id": "882e982e",
   "metadata": {},
   "outputs": [],
   "source": [
    "fig, (ax1, ax2) = plt.subplots(1, 2, figsize=(10,5))\n",
    "ax1.title.set_text('Weight vs ID') \n",
    "ax1.scatter(df_cpy['ID'], df_cpy['Weight'], c =\"blue\")\n",
    "plt.ylabel('Weight')\n",
    "plt.xlabel('ID')\n",
    "\n",
    "\n",
    "plt.plot(df_cpy['ID'], df_cpy['Weight'])\n",
    "plt.title('Weight Vs ID')\n",
    "plt.xlabel('ID')\n",
    "plt.ylabel('Weight')\n",
    "plt.show()\n",
    "\n",
    "# ax2.set_xticks(range(0, 3))\n",
    "# ax2.set_xticklabels(['0','1 - Male','2 - Female'], fontsize = 14);\n",
    "plt.show()"
   ]
  },
  {
   "cell_type": "markdown",
   "id": "9e6848ad",
   "metadata": {},
   "source": [
    "**Learning from the first plot :** Shows that the weights are mostly concentrated around 50-75. There's a nearly even distribution of weights among all the records. We can also see the values being capped at the upper and lower bounds which we did during outlier removal.\n",
    "**Alternative plot :** The alternative plot helps us infer the trend in the weight as we go down the records. Helps us infer the trends even in the highly dense areas like weight:50-75.\n",
    "**Learning from the alternative plot :** There are more overweight superheroes as we go down the data."
   ]
  },
  {
   "cell_type": "markdown",
   "id": "0ea1cd83",
   "metadata": {},
   "source": [
    "## 6. Box-plots"
   ]
  },
  {
   "cell_type": "code",
   "execution_count": null,
   "id": "9ebd1e46",
   "metadata": {},
   "outputs": [],
   "source": [
    "# c = 1\n",
    "# for (columnName, columnData) in df_cpy.iteritems():\n",
    "#     plt.subplot(4, 2, c)\n",
    "# #     plt.title('Weight Vs ID')\n",
    "# #     plt.xlabel('ID')\n",
    "# #     plt.ylabel('Weight')\n",
    "#     boxplot = df_cpy.boxplot(column=columnName)\n",
    "#     c = c + 1\n",
    "for (columnName, columnData) in df_cpy.iteritems():\n",
    "    if columnName != 'name':\n",
    "        plt.figure()\n",
    "        boxplot = df_cpy.boxplot(column=columnName)"
   ]
  },
  {
   "cell_type": "markdown",
   "id": "6ce319c5",
   "metadata": {},
   "source": [
    "**Boxplot for 'name' cannot be plotted since it is not numerical.\n",
    "Although the question asks for boxplot for each column, box plots for categorical data are not usually helpful \n",
    "in any means since they are not quantitative data. In our case the boxplots only for height and weight are useful.**"
   ]
  },
  {
   "cell_type": "markdown",
   "id": "2699a9e2",
   "metadata": {},
   "source": [
    "## EXPLORATORY DATA ANALYSIS"
   ]
  },
  {
   "cell_type": "markdown",
   "id": "b34d6325",
   "metadata": {},
   "source": [
    "## 1. Describing the data"
   ]
  },
  {
   "cell_type": "code",
   "execution_count": null,
   "id": "213e7503",
   "metadata": {},
   "outputs": [],
   "source": [
    "df_cpy.describe()"
   ]
  },
  {
   "cell_type": "markdown",
   "id": "f692dabc",
   "metadata": {},
   "source": [
    "## 2. Visualizing Distribution with Histograms"
   ]
  },
  {
   "cell_type": "code",
   "execution_count": null,
   "id": "95e71b7e",
   "metadata": {},
   "outputs": [],
   "source": [
    "his = df_cpy.hist(figsize=(30,30))"
   ]
  },
  {
   "cell_type": "markdown",
   "id": "dfc712bc",
   "metadata": {},
   "source": [
    "## 3. Scatter matrix for four columns : Height, Weight, Race, Alignment"
   ]
  },
  {
   "cell_type": "code",
   "execution_count": null,
   "id": "b2e43e68",
   "metadata": {},
   "outputs": [],
   "source": [
    "import seaborn as sns\n",
    "sns.pairplot(df_cpy[[\"Height\", \"Weight\", \"Race\", \"Alignment\"]])"
   ]
  },
  {
   "cell_type": "markdown",
   "id": "1e4c69aa",
   "metadata": {},
   "source": [
    "## 4. Scatter plot for variables with no relationship"
   ]
  },
  {
   "cell_type": "markdown",
   "id": "ffd02d44",
   "metadata": {},
   "source": [
    "**Columns chosen: Publisher and Height**"
   ]
  },
  {
   "cell_type": "code",
   "execution_count": null,
   "id": "1256e5ce",
   "metadata": {},
   "outputs": [],
   "source": [
    " ax1 = df_cpy.plot.scatter(x='Publisher',y='Height',c='DarkBlue')"
   ]
  },
  {
   "cell_type": "markdown",
   "id": "e31a268b",
   "metadata": {},
   "source": [
    "Covariance:"
   ]
  },
  {
   "cell_type": "code",
   "execution_count": null,
   "id": "d8f56344",
   "metadata": {},
   "outputs": [],
   "source": [
    "cov_unr = df_cpy[[\"Publisher\",\"Height\"]].cov()\n",
    "print(cov_unr)"
   ]
  },
  {
   "cell_type": "markdown",
   "id": "83beb9cf",
   "metadata": {},
   "source": [
    "Correlation:"
   ]
  },
  {
   "cell_type": "code",
   "execution_count": null,
   "id": "3e7b0b1f",
   "metadata": {},
   "outputs": [],
   "source": [
    "corr = df['Publisher'].corr(df['Height'])\n",
    "print(corr)"
   ]
  },
  {
   "cell_type": "markdown",
   "id": "fc789688",
   "metadata": {},
   "source": [
    "## 4. Scatter plot for variables which seem to have a relationship"
   ]
  },
  {
   "cell_type": "markdown",
   "id": "4254fc5f",
   "metadata": {},
   "source": [
    "**Columns chosen: Height and Weight**"
   ]
  },
  {
   "cell_type": "code",
   "execution_count": null,
   "id": "887e87b6",
   "metadata": {},
   "outputs": [],
   "source": [
    " ax1 = df_cpy.plot.scatter(x='Height',y='Weight',c='DarkBlue')"
   ]
  },
  {
   "cell_type": "markdown",
   "id": "388b2970",
   "metadata": {},
   "source": [
    "Covariance:"
   ]
  },
  {
   "cell_type": "code",
   "execution_count": null,
   "id": "a3c9feab",
   "metadata": {},
   "outputs": [],
   "source": [
    "cov_r = df_cpy[[\"Weight\",\"Height\"]].cov()\n",
    "print(cov_r)"
   ]
  },
  {
   "cell_type": "markdown",
   "id": "7f3db8cc",
   "metadata": {},
   "source": [
    "Correlation:"
   ]
  },
  {
   "cell_type": "code",
   "execution_count": null,
   "id": "b3393e94",
   "metadata": {},
   "outputs": [],
   "source": [
    "corr_r = df['Weight'].corr(df['Height'])\n",
    "print(corr_r)"
   ]
  },
  {
   "cell_type": "code",
   "execution_count": null,
   "id": "e2165bee",
   "metadata": {},
   "outputs": [],
   "source": []
  }
 ],
 "metadata": {
  "kernelspec": {
   "display_name": "Python 3",
   "language": "python",
   "name": "python3"
  },
  "language_info": {
   "codemirror_mode": {
    "name": "ipython",
    "version": 3
   },
   "file_extension": ".py",
   "mimetype": "text/x-python",
   "name": "python",
   "nbconvert_exporter": "python",
   "pygments_lexer": "ipython3",
   "version": "3.8.8"
  }
 },
 "nbformat": 4,
 "nbformat_minor": 5
}
