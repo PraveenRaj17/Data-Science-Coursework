{
 "cells": [
  {
   "cell_type": "markdown",
   "metadata": {
    "id": "Qi3NcX5Okb4p"
   },
   "source": [
    "# Lab 4: Scikit Learn, Classification and Clustering"
   ]
  },
  {
   "cell_type": "markdown",
   "metadata": {
    "id": "ERp2imW4mDx7"
   },
   "source": [
    "### [Read an follow the prelab before answering the questions here](https://colab.research.google.com/drive/1digjhC-XpN07t7o7OATCUs9SESzzkmWI?usp=sharing)"
   ]
  },
  {
   "cell_type": "markdown",
   "metadata": {
    "id": "3ku9dTdPmgcw"
   },
   "source": [
    "## Academic Integrity Guidelines \n",
    "This lab is an individual assignment (like all the other labs). You should NOT work with your project teammate nor any other classmate. If you have questions, please ask us on Piazza.\n",
    "You must reference (including URLs) of any resources other than those linked to in the assignment, or provided by the professor or TA. \n",
    "\n",
    "\n",
    "##To submit this assignment:\n",
    "1.\tPrint your Jupyter Notebook as a PDF and upload it to Gradescope. **Make sure that each line of code has 80 characters maximum and that all your plots and text are properly displayed in the pdf.**\n",
    "2.\tExport your Jupyter Notebook as a python file (.py) and upload it to Gradescope. **If your pdf does not show your text and plots properly, submit your jupyter notebook file also (.ipynb)**\n"
   ]
  },
  {
   "cell_type": "markdown",
   "metadata": {
    "id": "WvrUgn8_kb5e"
   },
   "source": [
    "### SVM on Wine quality dataset"
   ]
  },
  {
   "cell_type": "markdown",
   "metadata": {
    "id": "EnbitNF0kb5f"
   },
   "source": [
    "#### Exercise 4.1 (30 pts)\n",
    "\n",
    "Now it's your turn to work with SVM. The wine data set is loaded below. You can learn more about the dataset by using `datasett.DESCR`. Here, you need to work with the first two features to train your model.\n",
    "\n",
    "* Select the first two features for your X\n",
    "* Split the dataset in two sets of training and testing data. Use 80% of the data for training and 20% for testing\n",
    "* Perform linear SVM on the dataset \n",
    "* Perform non-linear SVM on the dataset \n",
    "* Display the classification report and accuracy for both models"
   ]
  },
  {
   "cell_type": "markdown",
   "metadata": {
    "id": "-kwLhMIgkb5g"
   },
   "source": [
    "### Linear SVM"
   ]
  },
  {
   "cell_type": "code",
   "execution_count": 47,
   "metadata": {
    "id": "mJzIqbv6kb5g"
   },
   "outputs": [
    {
     "name": "stdout",
     "output_type": "stream",
     "text": [
      "Classification report for Linear SVM Model : \n",
      "\n",
      "              precision    recall  f1-score   support\n",
      "\n",
      "           0       0.80      0.80      0.80        10\n",
      "           1       0.75      0.86      0.80        14\n",
      "           2       0.70      0.58      0.64        12\n",
      "\n",
      "    accuracy                           0.75        36\n",
      "   macro avg       0.75      0.75      0.75        36\n",
      "weighted avg       0.75      0.75      0.75        36\n",
      "\n"
     ]
    }
   ],
   "source": [
    "from sklearn.datasets import load_wine\n",
    "import pandas as pd\n",
    "from sklearn.model_selection import train_test_split\n",
    "from sklearn import svm\n",
    "from sklearn import metrics\n",
    "#your code here\n",
    "\n",
    "# load the wine data\n",
    "data = load_wine(as_frame = True).frame\n",
    "# select first two features for X\n",
    "X = data.iloc[:,:2]\n",
    "y = data.target\n",
    "# split train-test data\n",
    "X_train , X_test, y_train, y_test = train_test_split(X, y , test_size = 0.2)\n",
    "\n",
    "## Linear SVM : Model 1\n",
    "# clf1 is a linear svm classifier\n",
    "clf1 = svm.SVC(kernel = 'linear')\n",
    "# Fit data\n",
    "clf1.fit(X_train, y_train)\n",
    "# Predict\n",
    "y1_predict = clf1.predict(X_test)\n",
    "#Display the outcome of classification\n",
    "print('Classification report for Linear SVM Model : \\n\\n' + str(metrics.classification_report(y_test, y1_predict)))\n",
    "# print('Confusion matrix : ' + str(metrics.confusion_matrix(y_test, y_predict)))"
   ]
  },
  {
   "cell_type": "markdown",
   "metadata": {
    "id": "TxovDwT2kb5h"
   },
   "source": [
    "### Non Linear SVM"
   ]
  },
  {
   "cell_type": "code",
   "execution_count": 48,
   "metadata": {
    "id": "yTQB4RLZkb5i"
   },
   "outputs": [
    {
     "name": "stdout",
     "output_type": "stream",
     "text": [
      "Classification report for Non-linear SVM model : \n",
      "\n",
      "              precision    recall  f1-score   support\n",
      "\n",
      "           0       0.88      0.70      0.78        10\n",
      "           1       0.76      0.93      0.84        14\n",
      "           2       0.73      0.67      0.70        12\n",
      "\n",
      "    accuracy                           0.78        36\n",
      "   macro avg       0.79      0.77      0.77        36\n",
      "weighted avg       0.78      0.78      0.77        36\n",
      "\n"
     ]
    }
   ],
   "source": [
    "#Your code here\n",
    "## Non-linear SVM : Model 2\n",
    "# clf2 is a non-linear svm classifier\n",
    "clf2 = svm.SVC(kernel = 'rbf')\n",
    "# Fit data\n",
    "clf2.fit(X_train, y_train)\n",
    "# Predict\n",
    "y2_predict = clf2.predict(X_test)\n",
    "#Display the outcome of classification\n",
    "print('Classification report for Non-linear SVM model : \\n\\n' + str(metrics.classification_report(y_test, y2_predict)))"
   ]
  },
  {
   "cell_type": "markdown",
   "metadata": {
    "id": "wsWgBldOkb5k"
   },
   "source": [
    "### Which method has a better accuracy?\n",
    "\n"
   ]
  },
  {
   "cell_type": "markdown",
   "metadata": {
    "id": "K6TmPDAGn_06"
   },
   "source": [
    "## Your answer here"
   ]
  },
  {
   "cell_type": "markdown",
   "metadata": {
    "id": "NrkRGsTXkb5l"
   },
   "source": [
    "#### Exercise 4.2 (10 pts)\n",
    "\n",
    "Scaling features is another step that can affect the performance of your classifier. \n",
    "\n",
    "\n",
    "* Select the first two features for your X\n",
    "* Scale the features using `StandardScaler`\n",
    "* Split the dataset in two sets of training and testing data. Use 80% of the data for training and 20% for testing\n",
    "* Perform linear SVM on the dataset \n",
    "* Display the classification report and accuracy for both models\n",
    "\n",
    "\n",
    "Did scaling data affect the classifier performance?"
   ]
  },
  {
   "cell_type": "code",
   "execution_count": 51,
   "metadata": {
    "id": "BKXVWbYEkb5n"
   },
   "outputs": [
    {
     "data": {
      "text/plain": [
       "array([[ 1.51861254, -0.5622498 ],\n",
       "       [ 0.24628963, -0.49941338],\n",
       "       [ 0.19687903,  0.02123125],\n",
       "       [ 1.69154964, -0.34681064],\n",
       "       [ 0.29570023,  0.22769377],\n",
       "       [ 1.48155459, -0.51736664],\n",
       "       [ 1.71625494, -0.4186237 ],\n",
       "       [ 1.3086175 , -0.16727801],\n",
       "       [ 2.25977152, -0.62508622],\n",
       "       [ 1.0615645 , -0.88540853],\n",
       "       [ 1.3580281 , -0.15830138],\n",
       "       [ 1.38273339, -0.76871232],\n",
       "       [ 0.92568536, -0.54429654],\n",
       "       [ 2.16095032, -0.54429654],\n",
       "       [ 1.70390229, -0.4186237 ],\n",
       "       [ 0.77745356, -0.47248348],\n",
       "       [ 1.60508109, -0.37374054],\n",
       "       [ 1.02450655, -0.68792264],\n",
       "       [ 1.46920194, -0.66996938],\n",
       "       [ 0.78980621,  0.68550197],\n",
       "       [ 1.3086175 , -0.63406285],\n",
       "       [-0.08723191,  1.31386618],\n",
       "       [ 0.87627476, -0.42760033],\n",
       "       [-0.18605311, -0.66099274],\n",
       "       [ 0.61686912, -0.47248348],\n",
       "       [ 0.06099988, -0.25704433],\n",
       "       [ 0.48098997, -0.50839001],\n",
       "       [ 0.36981612, -0.55327317],\n",
       "       [ 1.07391715, -0.3916938 ],\n",
       "       [ 1.2592069 , -0.58917969],\n",
       "       [ 0.90098006, -0.75075906],\n",
       "       [ 0.71569031, -0.60713296],\n",
       "       [ 0.83921681, -0.45453022],\n",
       "       [ 0.93803801, -0.72382916],\n",
       "       [ 0.62922177, -0.48146012],\n",
       "       [ 0.59216382, -0.47248348],\n",
       "       [ 0.34511082, -0.62508622],\n",
       "       [ 0.06099988, -0.61610959],\n",
       "       [ 0.08570518, -0.75075906],\n",
       "       [ 1.50625989,  1.48442217],\n",
       "       [ 0.69098501, -0.5622498 ],\n",
       "       [ 0.50569527,  1.3497727 ],\n",
       "       [ 1.0862698 , -0.40067043],\n",
       "       [ 0.29570023,  1.47544554],\n",
       "       [ 0.06099988, -0.50839001],\n",
       "       [ 1.49390724,  1.52930533],\n",
       "       [ 1.70390229,  1.12535692],\n",
       "       [ 1.1109751 , -0.58917969],\n",
       "       [ 1.3580281 , -0.28397422],\n",
       "       [ 1.1603857 , -0.54429654],\n",
       "       [ 0.06099988, -0.54429654],\n",
       "       [ 1.02450655, -0.61610959],\n",
       "       [ 1.01215391, -0.52634327],\n",
       "       [ 0.95039066, -0.3916938 ],\n",
       "       [ 0.91333271, -0.59815632],\n",
       "       [ 0.69098501, -0.54429654],\n",
       "       [ 1.50625989, -0.57122643],\n",
       "       [ 0.35746347, -0.32885738],\n",
       "       [ 0.88862741, -0.81359548],\n",
       "       [-0.77898029, -1.25345042],\n",
       "       [-0.82839089, -1.10982432],\n",
       "       [-0.44545875, -0.8764319 ],\n",
       "       [ 0.82686416, -0.97517485],\n",
       "       [-0.77898029, -1.08289442],\n",
       "       [-1.02603329, -0.79564222],\n",
       "       [-0.77898029, -1.01108137],\n",
       "       [ 0.13511578, -1.190614  ],\n",
       "       [-0.77898029, -1.0469879 ],\n",
       "       [ 0.41922672, -1.25345042],\n",
       "       [-0.97662269, -1.02903463],\n",
       "       [-0.87780149, -0.65201611],\n",
       "       [ 1.0615645 , -0.74178243],\n",
       "       [ 0.60451647, -0.60713296],\n",
       "       [-0.01311602, -0.59815632],\n",
       "       [-1.28543893, -1.11880095],\n",
       "       [-1.65601842, -0.40964706],\n",
       "       [ 0.03629458, -1.28935695],\n",
       "       [-1.43367073,  0.49699271],\n",
       "       [-0.82839089, -1.20856726],\n",
       "       [-0.37134286,  1.3767026 ],\n",
       "       [-1.23602833, -1.27140368],\n",
       "       [-0.34663756, -0.47248348],\n",
       "       [-1.13720713, -1.08289442],\n",
       "       [ 0.06099988,  1.36772596],\n",
       "       [-1.43367073, -1.29833358],\n",
       "       [-0.4084008 , -1.21754389],\n",
       "       [-1.03838594, -0.65201611],\n",
       "       [-1.66837107, -0.59815632],\n",
       "       [-1.68072372, -0.2480677 ],\n",
       "       [-1.13720713, -0.90336179],\n",
       "       [-1.13720713, -0.45453022],\n",
       "       [-1.23602833, -0.74178243],\n",
       "       [-0.38369551, -0.72382916],\n",
       "       [-0.87780149,  0.44313292],\n",
       "       [-1.70542902, -0.31090412],\n",
       "       [-0.6554538 , -0.7328058 ],\n",
       "       [-1.47072867, -0.19420791],\n",
       "       [-0.87780149, -0.83154874],\n",
       "       [-0.77898029, -1.13675421],\n",
       "       [-0.87780149,  0.74833839],\n",
       "       [-1.13720713, -0.23011443],\n",
       "       [-0.49486935, -0.89438516],\n",
       "       [-0.81603824,  0.10202093],\n",
       "       [-1.45837602, -0.55327317],\n",
       "       [-0.6060432 , -0.54429654],\n",
       "       [-0.71721705,  0.19178724],\n",
       "       [-0.92721209, -0.54429654],\n",
       "       [-0.34663756, -0.52634327],\n",
       "       [-0.96427004, -0.93926832],\n",
       "       [-1.71778167, -0.88540853],\n",
       "       [-1.90307141,  1.26000639],\n",
       "       [-0.59369055,  0.08406767],\n",
       "       [-1.53249192,  0.30848345],\n",
       "       [-1.96483466, -1.43298305],\n",
       "       [-1.13720713, -0.849502  ],\n",
       "       [-2.43423535, -0.74178243],\n",
       "       [-1.45837602, -0.77768895],\n",
       "       [-0.71721705, -0.65201611],\n",
       "       [-0.28487431,  0.98173081],\n",
       "       [-1.23602833,  0.98173081],\n",
       "       [-1.91542406,  0.05713777],\n",
       "       [-1.77954492, -0.25704433],\n",
       "       [-0.71721705,  1.87939396],\n",
       "       [ 0.06099988,  3.10919247],\n",
       "       [-1.39661278,  1.77167438],\n",
       "       [-1.14955978, -0.15830138],\n",
       "       [-0.7048644 , -0.72382916],\n",
       "       [-1.49543397, -0.18523128],\n",
       "       [-0.77898029, -0.63406285],\n",
       "       [-1.18661773,  1.76269775],\n",
       "       [-0.17370046, -0.88540853],\n",
       "       [-0.14899516,  0.58675903],\n",
       "       [-0.23546371, -0.02365191],\n",
       "       [-0.37134286,  1.08945039],\n",
       "       [-0.6060432 , -0.98415148],\n",
       "       [-0.49486935,  0.11099756],\n",
       "       [-0.92721209,  2.13971627],\n",
       "       [-0.5813379 ,  2.84887015],\n",
       "       [ 0.60451647,  1.12535692],\n",
       "       [-0.19840576,  0.55982913],\n",
       "       [-0.08723191,  0.42517966],\n",
       "       [ 0.44393202,  0.20076388],\n",
       "       [ 0.64157442,  0.74833839],\n",
       "       [ 0.76510091,  2.34617879],\n",
       "       [-0.92721209,  1.38567923],\n",
       "       [ 0.19687903,  1.10740365],\n",
       "       [ 1.0862698 ,  2.42696848],\n",
       "       [-0.16134781,  2.04097332],\n",
       "       [ 0.39452142,  0.81117481],\n",
       "       [ 0.09805783,  1.40363249],\n",
       "       [ 0.61686912,  0.70345524],\n",
       "       [-0.26016901,  0.29950682],\n",
       "       [ 0.13511578, -0.3916938 ],\n",
       "       [ 0.28334758,  0.8650346 ],\n",
       "       [-0.51957465, -0.93926832],\n",
       "       [ 0.20923168,  2.56161795],\n",
       "       [ 1.0368592 ,  1.60111838],\n",
       "       [-0.6801591 ,  0.62266555],\n",
       "       [ 1.65449169, -0.58917969],\n",
       "       [ 0.59216382, -0.59815632],\n",
       "       [-0.79133294,  1.34079607],\n",
       "       [ 0.85156946,  0.82912808],\n",
       "       [-0.18605311,  0.83810471],\n",
       "       [-0.05017396,  0.99968408],\n",
       "       [ 0.96274331,  0.3802965 ],\n",
       "       [ 0.90098006,  1.81655754],\n",
       "       [ 0.55510587,  1.22409986],\n",
       "       [-0.22311106,  0.92787102],\n",
       "       [ 0.71569031,  0.21871714],\n",
       "       [ 0.49334262,  2.03199669],\n",
       "       [-0.98897534,  0.62266555],\n",
       "       [-0.28487431,  0.04816114],\n",
       "       [ 1.43214399,  0.15588072],\n",
       "       [ 0.87627476,  2.974543  ],\n",
       "       [ 0.49334262,  1.41260912],\n",
       "       [ 0.33275817,  1.74474449],\n",
       "       [ 0.20923168,  0.22769377],\n",
       "       [ 1.39508604,  1.58316512]])"
      ]
     },
     "execution_count": 51,
     "metadata": {},
     "output_type": "execute_result"
    }
   ],
   "source": [
    "from sklearn.preprocessing import StandardScaler\n",
    "\n",
    "scaler = StandardScaler()\n",
    "\n",
    "\n",
    "#Your code here\n",
    "scaler.fit(X)\n",
    "scaler.mean_\n",
    "Xs = scaler.transform(X)\n"
   ]
  },
  {
   "cell_type": "markdown",
   "metadata": {
    "id": "C7eNjum7kb5o"
   },
   "source": [
    "### Did scaling data affect the classifier performance?"
   ]
  },
  {
   "cell_type": "markdown",
   "metadata": {
    "id": "O-TtAv87kb5p"
   },
   "source": [
    "## Your answer here"
   ]
  },
  {
   "cell_type": "markdown",
   "metadata": {
    "id": "AHGC3jE9kb5p"
   },
   "source": [
    "#### Exercise 4.3 (10 pts)\n",
    "\n",
    "scikit-learn has many other classifiers. Pick another classifier of your choice ( KNN, DecisionTree, NaiveBayes, ...) and apply it to the wine dataset. Display the classification report and accuracy."
   ]
  },
  {
   "cell_type": "code",
   "execution_count": null,
   "metadata": {
    "id": "aIQRzNnIkb5q"
   },
   "outputs": [],
   "source": [
    "#Your code goes here\n"
   ]
  },
  {
   "cell_type": "markdown",
   "metadata": {
    "id": "q4p6Qdbhkb5r"
   },
   "source": [
    "### Which classifier did you choose and did the classification improve?"
   ]
  },
  {
   "cell_type": "markdown",
   "metadata": {
    "id": "VHf6Uk4YoX5Y"
   },
   "source": [
    "## Your answer here"
   ]
  },
  {
   "cell_type": "markdown",
   "metadata": {
    "id": "2rgiuv8Tkb5s"
   },
   "source": [
    "#### Exercise 4.4 ( 30 pts)\n",
    "* First choose the first two features and apply kmeans clustering.\n",
    "* Display cluster evaluation metrics`homogeneity_score` and `completeness_score` (both belong to sklearn.metrics)\n",
    "* Plot the clusters and centroids. You have the \"ground truth\" or labels of your data points, your plot should create a meshgrid to display the decision boundary of your model, and add the datapoints and their true labels. (This is to observe how good your model performs on the data)"
   ]
  },
  {
   "cell_type": "markdown",
   "metadata": {
    "id": "emaOpYDVkb5t"
   },
   "source": [
    "Note: For displaying decision boundaries and data points follow these steps:\n",
    "\n",
    "1. Use meshGrid function to get the mesh for your attributes\n",
    "2. Obtain labels for each point in mesh and reshape it. ( Z = kmeans.predict(....))\n",
    "3. Put the results into a color plot\n",
    "    * Plot the colormesh --> plt.pcolormesh\n",
    "    * Plot your data points --> plt.scatter\n",
    "    * Plot the centroids --> plt.scatter\n",
    "    * Set titles, x and y ranges\n",
    "    * plt.show()"
   ]
  },
  {
   "cell_type": "code",
   "execution_count": null,
   "metadata": {
    "id": "fK2oSbsXkb5u",
    "scrolled": true
   },
   "outputs": [],
   "source": [
    "from sklearn.cluster import KMeans\n",
    "\n",
    "# Your code here\n"
   ]
  },
  {
   "cell_type": "markdown",
   "metadata": {
    "id": "psSEIhgckb5w"
   },
   "source": [
    "### How good your model performs on this data?"
   ]
  },
  {
   "cell_type": "markdown",
   "metadata": {
    "id": "uDfO7vdmo2Bf"
   },
   "source": [
    "## Your answer here"
   ]
  },
  {
   "cell_type": "markdown",
   "metadata": {
    "id": "9n1SdOrDkb5w"
   },
   "source": [
    "#### Exercise 4.5 (20 pts)\n",
    "\n",
    "In the previous model you used the first two features: 'Alcohol' and 'Malic acid'. \n",
    "For this exercise, pick features 'Alcohol' and 'OD280/OD315 of diluted wines' (feature #1 and feature #12) as your\n",
    "two attributes and perform the tasks in Exercise 4.4. (cluster, report metrics, draw decision boundaries)\n",
    "\n",
    "Which model performs better?"
   ]
  },
  {
   "cell_type": "code",
   "execution_count": null,
   "metadata": {
    "id": "p1QuKOkDkb5x",
    "scrolled": true
   },
   "outputs": [],
   "source": [
    "# Your code here\n"
   ]
  },
  {
   "cell_type": "markdown",
   "metadata": {
    "id": "dJOc6Na1kb5y"
   },
   "source": [
    "### Which model performs better?"
   ]
  },
  {
   "cell_type": "markdown",
   "metadata": {
    "id": "c4E-rREnpCD5"
   },
   "source": [
    "## Your answer here"
   ]
  }
 ],
 "metadata": {
  "colab": {
   "collapsed_sections": [],
   "provenance": []
  },
  "kernelspec": {
   "display_name": "Python 3",
   "language": "python",
   "name": "python3"
  },
  "language_info": {
   "codemirror_mode": {
    "name": "ipython",
    "version": 3
   },
   "file_extension": ".py",
   "mimetype": "text/x-python",
   "name": "python",
   "nbconvert_exporter": "python",
   "pygments_lexer": "ipython3",
   "version": "3.8.8"
  }
 },
 "nbformat": 4,
 "nbformat_minor": 1
}
